{
 "cells": [
  {
   "cell_type": "code",
   "execution_count": 1,
   "id": "dfe8bc3a",
   "metadata": {},
   "outputs": [
    {
     "name": "stdout",
     "output_type": "stream",
     "text": [
      "||------------------------------------ Environment setup ------------------------------------||"
     ]
    },
    {
     "name": "stderr",
     "output_type": "stream",
     "text": [
      "Loading required package: R6\n",
      "\n",
      "Loading required package: testit\n",
      "\n",
      "Loading required package: optparse\n",
      "\n",
      "Loading required package: magrittr\n",
      "\n",
      "Loading required package: reshape2\n",
      "\n",
      "Loading required package: fossil\n",
      "\n",
      "Loading required package: sp\n",
      "\n",
      "Loading required package: maps\n",
      "\n",
      "Loading required package: shapefiles\n",
      "\n",
      "Loading required package: foreign\n",
      "\n",
      "\n",
      "Attaching package: ‘shapefiles’\n",
      "\n",
      "\n",
      "The following objects are masked from ‘package:foreign’:\n",
      "\n",
      "    read.dbf, write.dbf\n",
      "\n",
      "\n",
      "Loading required package: progress\n",
      "\n",
      "Loading required package: reader\n",
      "\n",
      "Loading required package: NCmisc\n",
      "\n",
      "\n",
      "Attaching package: ‘reader’\n",
      "\n",
      "\n",
      "The following objects are masked from ‘package:NCmisc’:\n",
      "\n",
      "    cat.path, get.ext, rmv.ext\n",
      "\n",
      "\n",
      "Loading required package: data.table\n",
      "\n",
      "\n",
      "Attaching package: ‘data.table’\n",
      "\n",
      "\n",
      "The following objects are masked from ‘package:reshape2’:\n",
      "\n",
      "    dcast, melt\n",
      "\n",
      "\n",
      "Loading required package: testthat\n",
      "\n",
      "\n",
      "Attaching package: ‘testthat’\n",
      "\n",
      "\n",
      "The following objects are masked from ‘package:magrittr’:\n",
      "\n",
      "    equals, is_less_than, not\n",
      "\n",
      "\n",
      "Loading required package: Rcpp\n",
      "\n",
      "Loading required package: RcppArmadillo\n",
      "\n",
      "Loading required package: heatmap3\n",
      "\n",
      "Loading required package: tsibble\n",
      "\n",
      "Warning message in system(\"timedatectl\", intern = TRUE):\n",
      "“running command 'timedatectl' had status 1”\n",
      "\n",
      "Attaching package: ‘tsibble’\n",
      "\n",
      "\n",
      "The following object is masked from ‘package:data.table’:\n",
      "\n",
      "    key\n",
      "\n",
      "\n",
      "The following objects are masked from ‘package:base’:\n",
      "\n",
      "    intersect, setdiff, union\n",
      "\n",
      "\n",
      "Loading required package: dint\n",
      "\n"
     ]
    },
    {
     "name": "stdout",
     "output_type": "stream",
     "text": [
      "\n",
      "R packages installed/loaded successfully.||-------------------------------- End of environment setup ---------------------------------||"
     ]
    }
   ],
   "source": [
    "# This should be run first, to make sure the required packages are installed\n",
    "# also for creating minimal required directories\n",
    "cat(paste0(\n",
    "  \"||\", paste0(rep(\"-\", 36), collapse = \"\"), \" Environment setup \", \n",
    "  paste0(rep(\"-\", 36), collapse = \"\"), \"||\"\n",
    "))\n",
    "\n",
    "# tidyverse contains: dplyr, tidyr, ggplot2, readr, purrr, tibble, stringr\n",
    "required_packages <- c(\"R6\", \"testit\", \"optparse\", \"magrittr\", \"reshape2\", \n",
    "                       \"fossil\", \"progress\", \"reader\", \"data.table\", \"testthat\", \n",
    "                       \"Rcpp\", \"RcppArmadillo\", \"heatmap3\", \"tsibble\", \"dint\")\n",
    "\n",
    "not_installed <- required_packages[!(required_packages %in% installed.packages()[,\"Package\"])]\n",
    "install.packages(not_installed, quiet = TRUE)\n",
    "\n",
    "# Testing packages were installed correctly:\n",
    "x <- lapply(required_packages, require, character.only = TRUE)\n",
    "names(x) <- required_packages\n",
    "\n",
    "dir.create(\"inputs/processed\", showWarnings = FALSE)\n",
    "dir.create(\"intermediate_data\", showWarnings = FALSE)\n",
    "dir.create(\"results\", showWarnings = FALSE)\n",
    "\n",
    "if (all(unlist(x))) {\n",
    "  cat(paste0(\"\\nR packages installed/loaded successfully.\"))\n",
    "}else {\n",
    "  cat(paste0(\"\\nNot all packages were installed successfully.\\n\"))\n",
    "}\n",
    "\n",
    "cat(paste0(\n",
    "  \"||\", paste0(rep(\"-\", 32), collapse = \"\"), \" End of environment setup \", \n",
    "  paste0(rep(\"-\", 33), collapse = \"\"), \"||\"\n",
    "))\n",
    "\n",
    "Sys.sleep(3)\n"
   ]
  },
  {
   "cell_type": "code",
   "execution_count": 2,
   "id": "0263bd08",
   "metadata": {},
   "outputs": [
    {
     "name": "stdout",
     "output_type": "stream",
     "text": [
      "x86_64-conda-linux-gnu-c++ -std=gnu++14 -I\"/home/vjay/miniconda3/envs/nb_env/lib/R/include\" -DNDEBUG   -I\"/home/vjay/miniconda3/envs/nb_env/lib/R/library/Rcpp/include\" -I\"/tmp/RtmpCd8fpG/sourceCpp-x86_64-conda-linux-gnu-1.0.8.3\" -DNDEBUG -D_FORTIFY_SOURCE=2 -O2 -isystem /home/vjay/miniconda3/envs/nb_env/include -I/home/vjay/miniconda3/envs/nb_env/include -Wl,-rpath-link,/home/vjay/miniconda3/envs/nb_env/lib   -fpic  -fvisibility-inlines-hidden  -fmessage-length=0 -march=nocona -mtune=haswell -ftree-vectorize -fPIC -fstack-protector-strong -fno-plt -O2 -ffunction-sections -pipe -isystem /home/vjay/miniconda3/envs/nb_env/include -fdebug-prefix-map=/home/conda/feedstock_root/build_artifacts/r-base-split_1648745733215/work=/usr/local/src/conda/r-base-4.1.3 -fdebug-prefix-map=/home/vjay/miniconda3/envs/nb_env=/usr/local/src/conda-prefix  -c file64556dfb6dbe.cpp -o file64556dfb6dbe.o\n",
      "/home/vjay/miniconda3/envs/nb_env/lib/R/etc/Makeconf:177: recipe for target 'file64556dfb6dbe.o' failed\n"
     ]
    },
    {
     "ename": "ERROR",
     "evalue": "Error in sourceCpp(code = code, env = env, rebuild = rebuild, cacheDir = cacheDir, : Error 1 occurred building shared library.\n",
     "output_type": "error",
     "traceback": [
      "Error in sourceCpp(code = code, env = env, rebuild = rebuild, cacheDir = cacheDir, : Error 1 occurred building shared library.\nTraceback:\n",
      "1. evalCpp(\"2+2\")",
      "2. cppFunction(code, depends = depends, plugins = plugins, includes = includes, \n .     env = env, rebuild = rebuild, cacheDir = cacheDir, showOutput = showOutput, \n .     verbose = verbose)",
      "3. sourceCpp(code = code, env = env, rebuild = rebuild, cacheDir = cacheDir, \n .     showOutput = showOutput, verbose = verbose, echo = echo)",
      "4. stop(\"Error \", status, \" occurred building shared library.\")"
     ]
    },
    {
     "name": "stderr",
     "output_type": "stream",
     "text": [
      "\n",
      "WARNING: The tools required to build C++ code for R were not found.\n",
      "\n",
      "Please install GNU development tools including a C++ compiler.\n",
      "\n",
      "\n"
     ]
    }
   ],
   "source": [
    "evalCpp(\"2+2\")"
   ]
  }
 ],
 "metadata": {
  "kernelspec": {
   "display_name": "R",
   "language": "R",
   "name": "ir"
  },
  "language_info": {
   "codemirror_mode": "r",
   "file_extension": ".r",
   "mimetype": "text/x-r-source",
   "name": "R",
   "pygments_lexer": "r",
   "version": "4.1.3"
  }
 },
 "nbformat": 4,
 "nbformat_minor": 5
}
