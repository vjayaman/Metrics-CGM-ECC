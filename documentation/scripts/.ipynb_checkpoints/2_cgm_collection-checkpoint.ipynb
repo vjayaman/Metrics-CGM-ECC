{
 "cells": [
  {
   "cell_type": "code",
   "execution_count": 1,
   "id": "25f2dee9",
   "metadata": {},
   "outputs": [
    {
     "name": "stderr",
     "output_type": "stream",
     "text": [
      "Loading required package: R6\n",
      "\n",
      "Loading required package: tibble\n",
      "\n",
      "Loading required package: optparse\n",
      "\n",
      "Loading required package: magrittr\n",
      "\n",
      "Loading required package: dplyr\n",
      "\n",
      "\n",
      "Attaching package: ‘dplyr’\n",
      "\n",
      "\n",
      "The following objects are masked from ‘package:stats’:\n",
      "\n",
      "    filter, lag\n",
      "\n",
      "\n",
      "The following objects are masked from ‘package:base’:\n",
      "\n",
      "    intersect, setdiff, setequal, union\n",
      "\n",
      "\n",
      "Loading required package: reshape2\n",
      "\n",
      "Loading required package: progress\n",
      "\n",
      "Loading required package: testit\n",
      "\n",
      "Loading required package: data.table\n",
      "\n",
      "\n",
      "Attaching package: ‘data.table’\n",
      "\n",
      "\n",
      "The following objects are masked from ‘package:reshape2’:\n",
      "\n",
      "    dcast, melt\n",
      "\n",
      "\n",
      "The following objects are masked from ‘package:dplyr’:\n",
      "\n",
      "    between, first, last\n",
      "\n",
      "\n",
      "Loading required package: readr\n",
      "\n"
     ]
    },
    {
     "data": {
      "text/html": [
       "'||----------------------------- (2/8) Cluster metric generation -----------------------------||'"
      ],
      "text/latex": [
       "'\\textbar{}\\textbar{}----------------------------- (2/8) Cluster metric generation -----------------------------\\textbar{}\\textbar{}'"
      ],
      "text/markdown": [
       "'||----------------------------- (2/8) Cluster metric generation -----------------------------||'"
      ],
      "text/plain": [
       "[1] \"||----------------------------- (2/8) Cluster metric generation -----------------------------||\""
      ]
     },
     "metadata": {},
     "output_type": "display_data"
    },
    {
     "data": {
      "text/html": [
       "'Started process at: 2022-05-10 16:30:30'"
      ],
      "text/latex": [
       "'Started process at: 2022-05-10 16:30:30'"
      ],
      "text/markdown": [
       "'Started process at: 2022-05-10 16:30:30'"
      ],
      "text/plain": [
       "[1] \"Started process at: 2022-05-10 16:30:30\""
      ]
     },
     "metadata": {},
     "output_type": "display_data"
    }
   ],
   "source": [
    "libs <- c(\"R6\", \"tibble\", \"optparse\", \"magrittr\", \"dplyr\", \"reshape2\", \"progress\", \n",
    "          \"testit\", \"data.table\", \"readr\")\n",
    "y <- lapply(libs, require, character.only = TRUE); rm(libs); rm(y)\n",
    "\n",
    "# READING IN THE INPUTS ----------------------------------------------------------------------------------------\n",
    "# Change the default values to read in your own files, or feed through terminal arguments\n",
    "source(\"arguments.R\")\n",
    "\n",
    "files <- list.files(\"CGM\", full.names = TRUE)\n",
    "invisible(sapply(files, source)); rm(files)\n",
    "\n",
    "# BASIC STARTUP MESSAGES ---------------------------------------------------------------------------------------\n",
    "paste0(\"||\", paste0(rep(\"-\", 29), collapse = \"\"), \" (2/8) Cluster metric generation \", \n",
    "                     paste0(rep(\"-\", 29), collapse = \"\"), \"||\") \n",
    "paste0(\"Started process at: \", Sys.time())\n",
    "stopwatch <- list(\"start_time\" = as.character.POSIXt(Sys.time()), \"end_time\" = NULL)"
   ]
  },
  {
   "cell_type": "code",
   "execution_count": 2,
   "id": "72ff2648",
   "metadata": {},
   "outputs": [],
   "source": [
    "# TP DATA PREPARATION ------------------------------------------------------------------------------------------\n",
    "heights <- strsplit(as.character(params$th[2]), split = \",\") %>% unlist()\n",
    "clustersets <- file.path(\"../intermediate_data\", params$int_type[2], \"clustersets.Rds\") %>% readRDS(.)\n",
    "interval_list <- names(clustersets)\n",
    "\n",
    "if (params$int_type[2] == \"multiset\") {\n",
    "  interval <- \"Multiset\"\n",
    "  msg1 <- \"\"\n",
    "}else if (params$int_type[2] == \"monthly\") {\n",
    "  interval <- \"YearMonth\"\n",
    "  msg1 <- \"\"\n",
    "}else if (params$int_type[2] == \"weekly\") {\n",
    "  interval <- \"YearWeek\" #\"Week\"\n",
    "  msg1 <- \"week \"\n",
    "}\n",
    "\n",
    "save_to <- file.path(\"../intermediate_data\", params$int_type[2], \"cgms\")\n",
    "tpn <- readRDS(arg$tpn)$new_cols"
   ]
  },
  {
   "cell_type": "code",
   "execution_count": 3,
   "id": "76b2efad",
   "metadata": {},
   "outputs": [
    {
     "name": "stdout",
     "output_type": "stream",
     "text": [
      "  Constructing week 2020-03 data object, 2 (1 / 11):\n",
      "  |======================================================================| 100%\n",
      "  Constructing week 2020-04 data object, 26 (2 / 11):\n",
      "  |======================================================================| 100%\n",
      "  Tracking clusters from week 2020-03 to week 2020-04, from height 0 ...\n"
     ]
    },
    {
     "name": "stderr",
     "output_type": "stream",
     "text": [
      "  Tracking clusters from week 2020-03 to week 2020-04, from height 0 ...\n",
      "\n"
     ]
    },
    {
     "name": "stdout",
     "output_type": "stream",
     "text": [
      "  Constructing week 2020-04 data object, 26 (2 / 11):\n",
      "  |======================================================================| 100%\n",
      "  Constructing week 2020-05 data object, 52 (3 / 11):\n",
      "  |======================================================================| 100%\n",
      "  Tracking clusters from week 2020-04 to week 2020-05, from height 0 ...\n"
     ]
    },
    {
     "name": "stderr",
     "output_type": "stream",
     "text": [
      "  Tracking clusters from week 2020-04 to week 2020-05, from height 0 ...\n",
      "\n"
     ]
    },
    {
     "name": "stdout",
     "output_type": "stream",
     "text": [
      "  |======================================================================| 100%\n",
      "  Constructing week 2020-05 data object, 52 (3 / 11):\n",
      "  |======================================================================| 100%\n",
      "  Constructing week 2020-06 data object, 72 (4 / 11):\n",
      "  |======================================================================| 100%\n",
      "  Tracking clusters from week 2020-05 to week 2020-06, from height 0 ...\n"
     ]
    },
    {
     "name": "stderr",
     "output_type": "stream",
     "text": [
      "  Tracking clusters from week 2020-05 to week 2020-06, from height 0 ...\n",
      "\n"
     ]
    },
    {
     "name": "stdout",
     "output_type": "stream",
     "text": [
      "  |======================================================================| 100%\n",
      "  Constructing week 2020-06 data object, 72 (4 / 11):\n",
      "  |======================================================================| 100%\n",
      "  Constructing week 2020-07 data object, 76 (5 / 11):\n",
      "  |======================================================================| 100%\n",
      "  Tracking clusters from week 2020-06 to week 2020-07, from height 0 ...\n"
     ]
    },
    {
     "name": "stderr",
     "output_type": "stream",
     "text": [
      "  Tracking clusters from week 2020-06 to week 2020-07, from height 0 ...\n",
      "\n"
     ]
    },
    {
     "name": "stdout",
     "output_type": "stream",
     "text": [
      "  |======================================================================| 100%\n",
      "  Constructing week 2020-07 data object, 76 (5 / 11):\n",
      "  |======================================================================| 100%\n",
      "  Constructing week 2020-08 data object, 78 (6 / 11):\n",
      "  |======================================================================| 100%\n",
      "  Tracking clusters from week 2020-07 to week 2020-08, from height 0 ...\n"
     ]
    },
    {
     "name": "stderr",
     "output_type": "stream",
     "text": [
      "  Tracking clusters from week 2020-07 to week 2020-08, from height 0 ...\n",
      "\n"
     ]
    },
    {
     "name": "stdout",
     "output_type": "stream",
     "text": [
      "  |======================================================================| 100%\n",
      "  Constructing week 2020-08 data object, 78 (6 / 11):\n",
      "  |======================================================================| 100%\n",
      "  Constructing week 2020-09 data object, 86 (7 / 11):\n",
      "  |======================================================================| 100%\n",
      "  Tracking clusters from week 2020-08 to week 2020-09, from height 0 ...\n"
     ]
    },
    {
     "name": "stderr",
     "output_type": "stream",
     "text": [
      "  Tracking clusters from week 2020-08 to week 2020-09, from height 0 ...\n",
      "\n"
     ]
    },
    {
     "name": "stdout",
     "output_type": "stream",
     "text": [
      "  |======================================================================| 100%\n",
      "  Constructing week 2020-09 data object, 86 (7 / 11):\n",
      "  |======================================================================| 100%\n",
      "  Constructing week 2020-10 data object, 94 (8 / 11):\n",
      "  |======================================================================| 100%\n",
      "  Tracking clusters from week 2020-09 to week 2020-10, from height 0 ...\n"
     ]
    },
    {
     "name": "stderr",
     "output_type": "stream",
     "text": [
      "  Tracking clusters from week 2020-09 to week 2020-10, from height 0 ...\n",
      "\n"
     ]
    },
    {
     "name": "stdout",
     "output_type": "stream",
     "text": [
      "  |======================================================================| 100%\n",
      "  Constructing week 2020-10 data object, 94 (8 / 11):\n",
      "  |======================================================================| 100%\n",
      "  Constructing week 2020-11 data object, 99 (9 / 11):\n",
      "  |======================================================================| 100%\n",
      "  Tracking clusters from week 2020-10 to week 2020-11, from height 0 ...\n"
     ]
    },
    {
     "name": "stderr",
     "output_type": "stream",
     "text": [
      "  Tracking clusters from week 2020-10 to week 2020-11, from height 0 ...\n",
      "\n"
     ]
    },
    {
     "name": "stdout",
     "output_type": "stream",
     "text": [
      "  |======================================================================| 100%\n",
      "  Constructing week 2020-11 data object, 99 (9 / 11):\n",
      "  |======================================================================| 100%\n",
      "  Constructing week 2020-12 data object, 108 (10 / 11):\n",
      "  |======================================================================| 100%\n",
      "  Tracking clusters from week 2020-11 to week 2020-12, from height 0 ...\n"
     ]
    },
    {
     "name": "stderr",
     "output_type": "stream",
     "text": [
      "  Tracking clusters from week 2020-11 to week 2020-12, from height 0 ...\n",
      "\n"
     ]
    },
    {
     "name": "stdout",
     "output_type": "stream",
     "text": [
      "  |======================================================================| 100%\n",
      "  Constructing week 2020-12 data object, 108 (10 / 11):\n",
      "  |======================================================================| 100%\n",
      "  Constructing week 2020-13 data object, 111 (11 / 11):\n",
      "  |======================================================================| 100%\n",
      "  Tracking clusters from week 2020-12 to week 2020-13, from height 0 ...\n"
     ]
    },
    {
     "name": "stderr",
     "output_type": "stream",
     "text": [
      "  Tracking clusters from week 2020-12 to week 2020-13, from height 0 ...\n",
      "\n"
     ]
    },
    {
     "name": "stdout",
     "output_type": "stream",
     "text": [
      "  |======================================================================| 100%\n"
     ]
    }
   ],
   "source": [
    "# rowx <- readRDS(\"results/rowx.Rds\")\n",
    "for (i in 1:(length(interval_list)-1)) {\n",
    "  \n",
    "  n1 <- as.character(interval_list[i])\n",
    "  tpx1a <- clustersets[[n1]]$sofar %>% select(isolate, heightx) %>% set_colnames(c(\"isolate\", heights))\n",
    "  tpx1 <- tpn %>% rename(\"isolate\" = \"Strain\") %>% \n",
    "    left_join(tpx1a, ., by = intersect(colnames(tpx1a), colnames(.)))\n",
    "  rm(tpx1a)\n",
    "  \n",
    "  n2 <- as.character(interval_list[i+1])\n",
    "  tpx2a <- clustersets[[n2]]$sofar %>% select(isolate, heightx) %>% set_colnames(c(\"isolate\", heights))\n",
    "  tpx2 <- tpn %>% rename(\"isolate\" = \"Strain\") %>% \n",
    "    left_join(tpx2a, ., by = intersect(colnames(tpx2a), colnames(.)))\n",
    "  rm(tpx2a)\n",
    "  \n",
    "  # if (i > 1) {\n",
    "  #   fullset <- clustersets[[n1]]$sofar\n",
    "  #   ivl_i <- clustersets[[n1]]$ivl\n",
    "  #   unchanged_clusters <- setdiff(fullset, ivl_i) %>% pull(heightx) %>% unique()\n",
    "  #   strains <- fullset[heightx %in% unchanged_clusters] %>% pull(isolate)\n",
    "  #   rm(fullset); rm(unchanged_clusters); rm(ivl_i)\n",
    "  #   unchanged_data <- tmp %>% filter(Strain %in% strains)\n",
    "  # }\n",
    "  \n",
    "  ph <- max(nchar(colnames(tpx1)[-1]), nchar(colnames(tpx2)[-1]))\n",
    "  pc <- tpx2 %>% select(-isolate) %>% max(., tpx2 %>% select(-isolate)) %>% nchar()\n",
    "  \n",
    "  msgtexts <- c(\n",
    "    paste0(\"  Constructing \", msg1, n1, \" data object, \", nrow(tpx1), \" (\", i, \" / \", length(interval_list), \"):\\n\"), \n",
    "    paste0(\"  Constructing \", msg1, n2, \" data object, \", nrow(tpx2), \" (\", i+1, \" / \", length(interval_list), \"):\\n\")\n",
    "  ) \n",
    "  \n",
    "  tplist <- tpDataSetup(tpx1, tpx2, ph, pc, FALSE, msgtexts)#; rm(tpx1); rm(tpx2)\n",
    "  tp1 <- tplist[[\"tp1\"]]\n",
    "  tp2 <- tplist[[\"tp2\"]]\n",
    "  novels <- tplist[[\"novs\"]]\n",
    "  rm(tplist)\n",
    "  \n",
    "  # BASE CASE (FIRST HEIGHT) -------------------------------------------------------------------------------------\n",
    "  outputDetails(paste0(\"  Tracking clusters from \", msg1, n1, \" to \", msg1, n2, \", from height \", heights[1], \" ...\"), newcat = TRUE)\n",
    "  \n",
    "  hx <- Heightdata$new(starter = heights[1], t1_comps = tp1$comps, hvals = heights)$\n",
    "    clust_tracking(tp2$comps, tp2$cnames, tp1$coded, tp2$coded, TRUE)$\n",
    "    update_iteration()\n",
    "  \n",
    "  # outputDetails(\"  Identifying and counting 'additional TP1 strains'.\\n\", newcat = FALSE)\n",
    "  clusters_just_tp1 <- lapply(heights, function(h) {\n",
    "    df1 <- hx$results[[h]]\n",
    "    df2 <- left_join(df1, tp1$flagged, by = intersect(colnames(df1), colnames(tp1$flagged)))\n",
    "    \n",
    "    left_join(df2, tp2$flagged, by = intersect(colnames(df2), colnames(tp2$flagged))) %>% \n",
    "      arrange(tp1_h, tp1_cl, tp2_h, tp2_cl) %>% \n",
    "      findingSneakers(novels, tp1$status, tp2$status, .) %>% return()\n",
    "  }) %>% bind_rows()\n",
    "  \n",
    "  # outputDetails(\"  Handling novel tracking, adding to dataset.\\n\", newcat = FALSE)\n",
    "  isolates_file <- novelHandling(tp1, tp2, clusters_just_tp1, heights)\n",
    "  \n",
    "  isolates_file %<>% \n",
    "    mutate(novel = ifelse(isolate %in% setdiff(tp2$raw$isolate, tp1$raw$isolate), 1, 0)) %>% \n",
    "    rename(Strain = isolate)\n",
    "  \n",
    "  isolates_file[,c(\"tp1_h\", \"tp2_h\")] %<>% apply(., 2, padCol, padval = ph, padchr = \"h\")\n",
    "  isolates_file[,c(\"tp1_cl\", \"tp2_cl\")] %<>% apply(., 2, padCol, padval = pc, padchr = \"c\")\n",
    "  \n",
    "  # outputDetails(\"  Incrementing all cluster sizes by 1, then calculating growth columns.\\n\", newcat = FALSE)\n",
    "  # outputDetails(\"  Also adding 'type' column to CGM results table.\\n\", newcat = FALSE)\n",
    "  isolates_file %<>% \n",
    "    mutate(tp1_cl_size = tp1_cl_size + 1, tp2_cl_size = tp2_cl_size + 1) %>% \n",
    "    oneHeight()\n",
    "  \n",
    "  # if (i > 1) {isolates_file <- unchanged_data %>% bind_rows(isolates_file, .)}\n",
    "  \n",
    "  # tmp <- isolates_file\n",
    "  isolates_file %<>% addingType(.)\n",
    "  \n",
    "  # outputDetails(\"  Saving the data in a file with cluster identifiers.\\n\", newcat = FALSE)\n",
    "  # strains removed\n",
    "  isolates_file <- isolates_file %>% \n",
    "    select(tp1_id, tp1_cl_size, first_tp1_flag, last_tp1_flag, \n",
    "           first_tp2_flag, tp2_cl_size, last_tp2_flag, add_TP1, novel, \n",
    "           num_novs, actual_size_change, actual_growth_rate, new_growth, type) %>% \n",
    "    unique() %>% as.data.table()\n",
    "  \n",
    "  correcthere <- isolates_file\n",
    "  \n",
    "  indices <- which(is.na(isolates_file$tp1_id) & isolates_file$tp1_cl_size == 1)\n",
    "  isolates_file[indices]$tp1_id <- isolates_file$first_tp2_flag[indices] %>% \n",
    "    sapply(., strsplit, \"_\") %>% sapply(., '[[', 3) %>% \n",
    "    paste0(\"AbsentAtTP1-\", \"TP2_\", .)\n",
    "  \n",
    "  cgm_results <- isolates_file %>% \n",
    "    mutate(across(colnames(isolates_file), as.character)) %>% \n",
    "    melt.data.table(id.vars = \"tp1_id\") %>% \n",
    "    add_column(Interval = paste0(n1, \"-\", n2), .after = 1) %>% \n",
    "    set_colnames(c(\"Cluster\", paste0(arg$intervaltype, \"Interval\"), \"Field\", \"Value\"))\n",
    "  \n",
    "  cgm_results <- isolates_file %>% \n",
    "    add_column(interval = paste0(n1, \"-\", n2), .before = 1)# %>% add_column(TP = n2, .before = 1)\n",
    "  \n",
    "  saveRDS(cgm_results, file.path(save_to, paste0(\"TP\", n2, \".Rds\")))\n",
    "}"
   ]
  },
  {
   "cell_type": "code",
   "execution_count": 4,
   "id": "ac7fd231",
   "metadata": {},
   "outputs": [],
   "source": [
    "dir.create(file.path(\"../results\", params$int_type[2]), showWarnings = FALSE)\n",
    "if (params$int_type[2] == \"multiset\") {\n",
    "  res_file <- gsub(\"-\", \"\", params$divs[2]) %>% gsub(\",\", \"-\", .) %>% \n",
    "    paste0(\"CGM-\",.,  \".Rds\") %>% \n",
    "    file.path(file.path(\"../results\", params$int_type[2]), .)\n",
    "}else {\n",
    "  res_file <- file.path(\"../results\", params$int_type[2], \"CGM-intervals.Rds\")\n",
    "}\n",
    "\n",
    "cgmfiles <- list.files(save_to, full.names = TRUE)\n",
    "lapply(cgmfiles, function(fi) {readRDS(fi)}) %>% bind_rows() %>% saveRDS(., res_file)"
   ]
  },
  {
   "cell_type": "code",
   "execution_count": 5,
   "id": "ce6cb3f4",
   "metadata": {},
   "outputs": [
    {
     "data": {
      "text/html": [
       "'Successfully collected data for all heights.'"
      ],
      "text/latex": [
       "'Successfully collected data for all heights.'"
      ],
      "text/markdown": [
       "'Successfully collected data for all heights.'"
      ],
      "text/plain": [
       "[1] \"Successfully collected data for all heights.\""
      ]
     },
     "metadata": {},
     "output_type": "display_data"
    },
    {
     "data": {
      "text/html": [
       "'\\nThe CGM data collection process took 11 second(s).'"
      ],
      "text/latex": [
       "'\\textbackslash{}nThe CGM data collection process took 11 second(s).'"
      ],
      "text/markdown": [
       "'\\nThe CGM data collection process took 11 second(s).'"
      ],
      "text/plain": [
       "[1] \"\\nThe CGM data collection process took 11 second(s).\""
      ]
     },
     "metadata": {},
     "output_type": "display_data"
    },
    {
     "data": {
      "text/html": [
       "'||---------------------------- End of cluster metric generation -----------------------------||'"
      ],
      "text/latex": [
       "'\\textbar{}\\textbar{}---------------------------- End of cluster metric generation -----------------------------\\textbar{}\\textbar{}'"
      ],
      "text/markdown": [
       "'||---------------------------- End of cluster metric generation -----------------------------||'"
      ],
      "text/plain": [
       "[1] \"||---------------------------- End of cluster metric generation -----------------------------||\""
      ]
     },
     "metadata": {},
     "output_type": "display_data"
    }
   ],
   "source": [
    "# WRAPPING THINGS UP -------------------------------------------------------------------------------------------\n",
    "stopwatch[[\"end_time\"]] <- as.character.POSIXt(Sys.time())\n",
    "\n",
    "paste0(\"Successfully collected data for all heights.\")\n",
    "timeTaken(pt = \"CGM data collection\", stopwatch)\n",
    "paste0(\"||\", paste0(rep(\"-\", 28), collapse = \"\"), \" End of cluster metric generation \", \n",
    "       paste0(rep(\"-\", 29), collapse = \"\"), \"||\")\n",
    "\n",
    "Sys.sleep(3)"
   ]
  }
 ],
 "metadata": {
  "kernelspec": {
   "display_name": "R",
   "language": "R",
   "name": "ir"
  },
  "language_info": {
   "codemirror_mode": "r",
   "file_extension": ".r",
   "mimetype": "text/x-r-source",
   "name": "R",
   "pygments_lexer": "r",
   "version": "4.1.3"
  }
 },
 "nbformat": 4,
 "nbformat_minor": 5
}
