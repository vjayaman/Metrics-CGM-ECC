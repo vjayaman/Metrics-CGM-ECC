{
 "cells": [
  {
   "cell_type": "code",
   "execution_count": 3,
   "id": "45b4eaf4",
   "metadata": {},
   "outputs": [
    {
     "name": "stdout",
     "output_type": "stream",
     "text": [
      "\n",
      "||-------------------- (3/8) Generating non-redundant pairwise distances --------------------||\n",
      "Started process at: 2022-05-10 16:35:28"
     ]
    }
   ],
   "source": [
    "libs <- c(\"R6\",\"testit\",\"optparse\",\"magrittr\",\"dplyr\",\"tibble\",\"readr\",\n",
    "          \"reshape2\",\"fossil\",\"tidyr\",\"purrr\", \"data.table\")\n",
    "y <- lapply(libs, require, character.only = TRUE)\n",
    "assert(\"All packages loaded correctly\", all(unlist(y))); rm(y); rm(libs)\n",
    "\n",
    "# Current working directory should be Metrics-CGM-ECC/\n",
    "files <- paste0(c(\"ECC/classes_ecc.R\", \"ECC/ecc_functions.R\", \n",
    "                  \"ECC/dist_functions.R\"))\n",
    "invisible(sapply(files, source)); rm(files)\n",
    "\n",
    "source(\"arguments.R\")\n",
    "\n",
    "cat(paste0(\"\\n||\", paste0(rep(\"-\", 20), collapse = \"\"), \n",
    "           \" (3/8) Generating non-redundant pairwise distances \", \n",
    "           paste0(rep(\"-\", 20), collapse = \"\"), \"||\\nStarted process at: \", Sys.time()))\n",
    "stopwatch <- list(\"start_time\" = as.character.POSIXt(Sys.time()), \"end_time\" = NULL)"
   ]
  },
  {
   "cell_type": "code",
   "execution_count": 4,
   "id": "8ab98ce3",
   "metadata": {},
   "outputs": [
    {
     "data": {
      "text/html": [
       "'Collecting and saving distances for groups at TPN'"
      ],
      "text/latex": [
       "'Collecting and saving distances for groups at TPN'"
      ],
      "text/markdown": [
       "'Collecting and saving distances for groups at TPN'"
      ],
      "text/plain": [
       "[1] \"Collecting and saving distances for groups at TPN\""
      ]
     },
     "metadata": {},
     "output_type": "display_data"
    },
    {
     "name": "stdout",
     "output_type": "stream",
     "text": [
      "\n",
      "Reading in metadata"
     ]
    },
    {
     "name": "stderr",
     "output_type": "stream",
     "text": [
      "\u001b[1mRows: \u001b[22m\u001b[34m111\u001b[39m \u001b[1mColumns: \u001b[22m\u001b[34m14\u001b[39m\n",
      "\u001b[36m──\u001b[39m \u001b[1mColumn specification\u001b[22m \u001b[36m────────────────────────────────────────────────────────────────────────────────────────────────\u001b[39m\n",
      "\u001b[1mDelimiter:\u001b[22m \"\\t\"\n",
      "\u001b[31mchr\u001b[39m  (7): Strain, Source, Country, Province, City, YearMonth, YearWeek\n",
      "\u001b[32mdbl\u001b[39m  (6): Latitude, Longitude, Day, Month, Year, TP2\n",
      "\u001b[34mdate\u001b[39m (1): Date\n",
      "\n",
      "\u001b[36mℹ\u001b[39m Use `spec()` to retrieve the full column specification for this data.\n",
      "\u001b[36mℹ\u001b[39m Specify the column types or set `show_col_types = FALSE` to quiet this message.\n"
     ]
    }
   ],
   "source": [
    "# COLLECT dist matrices using TPN clusters ---------------------------------------------------------\n",
    "paste0(\"Collecting and saving distances for groups at TPN\")\n",
    "\n",
    "save_to <- file.path(\"../intermediate_data\", params$int_type[2], \"TPN\", \"dists\", \"/\")\n",
    "dir.create(save_to,  recursive = TRUE, showWarnings = FALSE)\n",
    "\n",
    "outputMessages(\"Reading in metadata\")\n",
    "\n",
    "hx <- strsplit(as.character(params$th[2]), split = \",\") %>% unlist() %>% tibble(h = ., th = paste0(\"T\", .))\n",
    "\n",
    "fdata <- readRDS(arg$tpn)$new_cols %>% column_to_rownames(\"Strain\")\n",
    "tp2 <- Timepoint$new(arg$tpn, \"tp2\", fdata)$Process(hx)$listHeights(hx)\n",
    "\n",
    "m <- read_tsv(arg$metadata) %>% processedStrains()\n",
    "basedir <- file.path(\"../intermediate_data\", params$int_type[2], \"TPN\")"
   ]
  },
  {
   "cell_type": "code",
   "execution_count": 5,
   "id": "3f23e704",
   "metadata": {},
   "outputs": [
    {
     "data": {
      "text/html": [
       "'Collecting the extremes (min and max values) for optional scaling later'"
      ],
      "text/latex": [
       "'Collecting the extremes (min and max values) for optional scaling later'"
      ],
      "text/markdown": [
       "'Collecting the extremes (min and max values) for optional scaling later'"
      ],
      "text/plain": [
       "[1] \"Collecting the extremes (min and max values) for optional scaling later\""
      ]
     },
     "metadata": {},
     "output_type": "display_data"
    }
   ],
   "source": [
    "# Extremes, for scaling ----------------------------------------------------------------------\n",
    "paste0(\"Collecting the extremes (min and max values) for optional scaling later\")\n",
    "ext_geo_dists <- m$assignments %>% select(Longitude, Latitude) %>% unique() %>% \n",
    "  rownames_to_column(\"id\") %>% distMatrix(., \"geo\", c(\"Longitude\", \"Latitude\"))\n",
    "ext_temp_dists <- m$assignments %>% select(Date) %>% unique() %>% \n",
    "  rownames_to_column(\"id\") %>% distMatrix(., \"temp\", \"Date\")\n",
    "\n",
    "extremes <- list(maxt = max(ext_temp_dists), mint = min(ext_temp_dists), \n",
    "                 maxg = max(ext_geo_dists), ming = min(ext_geo_dists))\n",
    "saveRDS(extremes, file.path(basedir, \"extreme_dists.Rds\"))\n",
    "rm(ext_geo_dists); rm(ext_temp_dists); rm(extremes)"
   ]
  },
  {
   "cell_type": "code",
   "execution_count": 7,
   "id": "007d4be5",
   "metadata": {},
   "outputs": [
    {
     "data": {
      "text/html": [
       "'Collecting non-redundant pairwise distances (at last timepoint, when dataset is full)'"
      ],
      "text/latex": [
       "'Collecting non-redundant pairwise distances (at last timepoint, when dataset is full)'"
      ],
      "text/markdown": [
       "'Collecting non-redundant pairwise distances (at last timepoint, when dataset is full)'"
      ],
      "text/plain": [
       "[1] \"Collecting non-redundant pairwise distances (at last timepoint, when dataset is full)\""
      ]
     },
     "metadata": {},
     "output_type": "display_data"
    }
   ],
   "source": [
    "# Pairwise distances within clusters at TPN --------------------------------------------------\n",
    "paste0(\"Collecting non-redundant pairwise distances (at last timepoint, when dataset is full)\")\n",
    "metadata <- m$strain_data %>% as.data.table()\n",
    "\n",
    "clustersets <- file.path(\"../intermediate_data\", params$int_type[2], \"clustersets.Rds\") %>% readRDS(.)\n",
    "interval_list <- names(clustersets)\n",
    "rm(clustersets)\n",
    "\n",
    "k <- last(interval_list)\n",
    "\n",
    "if (params$int_type[2] == \"multiset\") {\n",
    "  interval <- \"Multiset\"\n",
    "}else if (params$int_type[2] == \"monthly\") {\n",
    "  interval <- \"YearMonth\"\n",
    "}else if (params$int_type[2] == \"weekly\") {\n",
    "  interval <- \"YearWeek\" #\"Week\"\n",
    "}\n",
    "\n",
    "typing_data <- lapply(1:length(interval_list), function(i) {\n",
    "  n1 <- as.character(interval_list[i])\n",
    "  tpkstrains <- metadata[get(interval) <= n1]$Strain\n",
    "  dfz <- tp2$filedata %>% rownames_to_column(\"isolate\") %>%\n",
    "    select(isolate, all_of(hx$h)) %>%\n",
    "    filter(isolate %in% tpkstrains) %>% column_to_rownames(\"isolate\")\n",
    "  dfz[,hx$h[1],drop=FALSE] %>% set_colnames(hx$th[1])\n",
    "}) %>% set_names(as.character(interval_list))\n",
    "\n",
    "td <- typing_data[[length(typing_data)]] %>% rownames_to_column(\"Strain\") %>% as.data.table()\n",
    "rm(typing_data)\n",
    "\n",
    "parts <- m$dr_matches %>% filter(Strain %in% td$Strain) %>% \n",
    "  left_join(td, ., by = \"Strain\") %>% sectionClusters(.)\n",
    "saveRDS(parts, file.path(\"../intermediate_data\", params$int_type[2], \"TPN\", \"parts.Rds\"))"
   ]
  },
  {
   "cell_type": "code",
   "execution_count": 8,
   "id": "af9677a1",
   "metadata": {},
   "outputs": [
    {
     "data": {
      "text/html": [
       "<span style=white-space:pre-wrap>'  Collecting and saving distances for cluster groups at TP2020-13:'</span>"
      ],
      "text/latex": [
       "'  Collecting and saving distances for cluster groups at TP2020-13:'"
      ],
      "text/markdown": [
       "<span style=white-space:pre-wrap>'  Collecting and saving distances for cluster groups at TP2020-13:'</span>"
      ],
      "text/plain": [
       "[1] \"  Collecting and saving distances for cluster groups at TP2020-13:\""
      ]
     },
     "metadata": {},
     "output_type": "display_data"
    },
    {
     "name": "stdout",
     "output_type": "stream",
     "text": [
      "  |======================================================================| 100%\n"
     ]
    },
    {
     "data": {
      "text/html": [
       "'\\nThe distances collection process took 1 minute(s) and 44 second(s).'"
      ],
      "text/latex": [
       "'\\textbackslash{}nThe distances collection process took 1 minute(s) and 44 second(s).'"
      ],
      "text/markdown": [
       "'\\nThe distances collection process took 1 minute(s) and 44 second(s).'"
      ],
      "text/plain": [
       "[1] \"\\nThe distances collection process took 1 minute(s) and 44 second(s).\""
      ]
     },
     "metadata": {},
     "output_type": "display_data"
    },
    {
     "name": "stdout",
     "output_type": "stream",
     "text": [
      "||------------------------------- End of distances collection -------------------------------||"
     ]
    }
   ],
   "source": [
    "paste0(\"  Collecting and saving distances for cluster groups at TP\", k, \":\")\n",
    "\n",
    "tpkstrains <- metadata[get(interval) <= k]$Strain\n",
    "collectDistances(parts$drs, parts$results, m$dr_matches, m$assignments, tpkstrains, save_to)\n",
    "rm(m); rm(parts)\n",
    "\n",
    "assert(\"Distances were collected and saved\", file.exists(file.path(basedir, \"extreme_dists.Rds\")))\n",
    "\n",
    "stopwatch[[\"end_time\"]] <- as.character.POSIXt(Sys.time())\n",
    "timeTaken(pt = \"distances collection\", stopwatch)\n",
    "cat(paste0(\"||\", paste0(rep(\"-\", 31), collapse = \"\"), \n",
    "           \" End of distances collection \", paste0(rep(\"-\", 31), collapse = \"\"), \"||\"))"
   ]
  }
 ],
 "metadata": {
  "kernelspec": {
   "display_name": "R",
   "language": "R",
   "name": "ir"
  },
  "language_info": {
   "codemirror_mode": "r",
   "file_extension": ".r",
   "mimetype": "text/x-r-source",
   "name": "R",
   "pygments_lexer": "r",
   "version": "4.1.3"
  }
 },
 "nbformat": 4,
 "nbformat_minor": 5
}
