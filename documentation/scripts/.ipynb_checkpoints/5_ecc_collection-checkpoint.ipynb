{
 "cells": [
  {
   "cell_type": "code",
   "execution_count": 11,
   "id": "f7ba2f01",
   "metadata": {},
   "outputs": [
    {
     "name": "stdout",
     "output_type": "stream",
     "text": [
      "x86_64-conda-linux-gnu-c++ -std=gnu++11 -I\"/home/vjay/miniconda3/envs/nb_env/lib/R/include\" -DNDEBUG -I../inst/include -fopenmp  -I\"/home/vjay/miniconda3/envs/nb_env/lib/R/library/Rcpp/include\" -I\"/home/vjay/miniconda3/envs/nb_env/lib/R/library/RcppArmadillo/include\" -I\"/mnt/c/Users/vasen/Desktop/Metrics-CGM-ECC/documentation/scripts\" -DNDEBUG -D_FORTIFY_SOURCE=2 -O2 -isystem /home/vjay/miniconda3/envs/nb_env/include -I/home/vjay/miniconda3/envs/nb_env/include -Wl,-rpath-link,/home/vjay/miniconda3/envs/nb_env/lib   -fpic  -fvisibility-inlines-hidden  -fmessage-length=0 -march=nocona -mtune=haswell -ftree-vectorize -fPIC -fstack-protector-strong -fno-plt -O2 -ffunction-sections -pipe -isystem /home/vjay/miniconda3/envs/nb_env/include -fdebug-prefix-map=/home/conda/feedstock_root/build_artifacts/r-base-split_1648493055476/work=/usr/local/src/conda/r-base-4.1.3 -fdebug-prefix-map=/home/vjay/miniconda3/envs/nb_env=/usr/local/src/conda-prefix  -c epicohversions.cpp -o epicohversions.o\n",
      "/home/vjay/miniconda3/envs/nb_env/lib/R/etc/Makeconf:177: recipe for target 'epicohversions.o' failed\n"
     ]
    },
    {
     "ename": "ERROR",
     "evalue": "Error in sourceCpp(\"epicohversions.cpp\"): Error 1 occurred building shared library.\n",
     "output_type": "error",
     "traceback": [
      "Error in sourceCpp(\"epicohversions.cpp\"): Error 1 occurred building shared library.\nTraceback:\n",
      "1. sourceCpp(\"epicohversions.cpp\")",
      "2. stop(\"Error \", status, \" occurred building shared library.\")"
     ]
    },
    {
     "name": "stderr",
     "output_type": "stream",
     "text": [
      "\n",
      "WARNING: The tools required to build C++ code for R were not found.\n",
      "\n",
      "Please install GNU development tools including a C++ compiler.\n",
      "\n",
      "\n"
     ]
    }
   ],
   "source": [
    "libs <- c(\"R6\",\"testit\",\"optparse\",\"magrittr\",\"dplyr\",\"tibble\",\"readr\",\n",
    "          \"reshape2\",\"fossil\",\"tidyr\",\"purrr\", \"data.table\", \"Rcpp\", \"RcppArmadillo\")\n",
    "y <- lapply(libs, require, character.only = TRUE)\n",
    "assert(\"All packages loaded correctly\", all(unlist(y))); rm(libs); rm(y)\n",
    "\n",
    "stopwatch <- list(\"start_time\" = as.character.POSIXt(Sys.time()), \"end_time\" = NULL)\n",
    "sourceCpp(\"epicohversions.cpp\")\n",
    "\n",
    "# Current working directory should be Metrics-CGM-ECC/\n",
    "files <- c(\"ECC/classes_ecc.R\", \"ECC/ecc_functions.R\", \"ECC/dist_functions.R\")\n",
    "invisible(sapply(files, source)); rm(files)"
   ]
  },
  {
   "cell_type": "code",
   "execution_count": 5,
   "id": "70914aee",
   "metadata": {},
   "outputs": [
    {
     "data": {
      "text/html": [
       "'||------------------------------- (5/8) ECC metric generation -------------------------------||'"
      ],
      "text/latex": [
       "'\\textbar{}\\textbar{}------------------------------- (5/8) ECC metric generation -------------------------------\\textbar{}\\textbar{}'"
      ],
      "text/markdown": [
       "'||------------------------------- (5/8) ECC metric generation -------------------------------||'"
      ],
      "text/plain": [
       "[1] \"||------------------------------- (5/8) ECC metric generation -------------------------------||\""
      ]
     },
     "metadata": {},
     "output_type": "display_data"
    },
    {
     "data": {
      "text/html": [
       "'Started process at: 2022-05-11 10:49:03'"
      ],
      "text/latex": [
       "'Started process at: 2022-05-11 10:49:03'"
      ],
      "text/markdown": [
       "'Started process at: 2022-05-11 10:49:03'"
      ],
      "text/plain": [
       "[1] \"Started process at: 2022-05-11 10:49:03\""
      ]
     },
     "metadata": {},
     "output_type": "display_data"
    },
    {
     "name": "stderr",
     "output_type": "stream",
     "text": [
      "\u001b[1mRows: \u001b[22m\u001b[34m111\u001b[39m \u001b[1mColumns: \u001b[22m\u001b[34m14\u001b[39m\n",
      "\u001b[36m──\u001b[39m \u001b[1mColumn specification\u001b[22m \u001b[36m────────────────────────────────────────────────────────────────────────────────────────────────\u001b[39m\n",
      "\u001b[1mDelimiter:\u001b[22m \"\\t\"\n",
      "\u001b[31mchr\u001b[39m  (7): Strain, Source, Country, Province, City, YearMonth, YearWeek\n",
      "\u001b[32mdbl\u001b[39m  (6): Latitude, Longitude, Day, Month, Year, TP2\n",
      "\u001b[34mdate\u001b[39m (1): Date\n",
      "\n",
      "\u001b[36mℹ\u001b[39m Use `spec()` to retrieve the full column specification for this data.\n",
      "\u001b[36mℹ\u001b[39m Specify the column types or set `show_col_types = FALSE` to quiet this message.\n"
     ]
    }
   ],
   "source": [
    "paste0(\"||\", paste0(rep(\"-\", 31), collapse = \"\"), \" (5/8) ECC metric generation \",\n",
    "                     paste0(rep(\"-\", 31), collapse = \"\"), \"||\")\n",
    "paste0(\"Started process at: \", Sys.time())\n",
    "\n",
    "source(\"arguments.R\")\n",
    "\n",
    "assert(\"Distances were collected and saved\", \n",
    "       file.exists(file.path(\"../intermediate_data\", params$int_type[2], \"TPN\", \"extreme_dists.Rds\")))\n",
    "\n",
    "hx <- strsplit(as.character(params$th[2]), split = \",\") %>% unlist() %>% tibble(h = ., th = paste0(\"T\", .))\n",
    "\n",
    "fdata <- readRDS(arg$tpn)$new_cols %>% column_to_rownames(\"Strain\")\n",
    "tp2 <- Timepoint$new(arg$tpn, \"tp2\", fdata)$Process(hx)$listHeights(hx)\n",
    "\n",
    "m <- read_tsv(arg$metadata) %>% processedStrains()\n",
    "metadata <- m$strain_data %>% as.data.table()\n",
    "extremes <- file.path(\"../intermediate_data\", params$int_type[2], \"TPN\", \"extreme_dists.Rds\") %>% readRDS()\n",
    "\n",
    "if (params$int_type[2] == \"multiset\") {\n",
    "  interval <- \"Multiset\"\n",
    "}else if (params$int_type[2] == \"monthly\") {\n",
    "  interval <- \"YearMonth\"\n",
    "}else if (params$int_type[2] == \"weekly\") {\n",
    "  interval <- \"YearWeek\"\n",
    "}\n",
    "\n",
    "clustersets <- file.path(\"../intermediate_data\", params$int_type[2], \"clustersets.Rds\") %>% readRDS(.)\n",
    "interval_list <- names(clustersets)\n",
    "rm(clustersets)"
   ]
  },
  {
   "cell_type": "code",
   "execution_count": 6,
   "id": "afaa78fc",
   "metadata": {},
   "outputs": [],
   "source": [
    "basedir <- file.path(\"../intermediate_data\", params$int_type[2], \"eccs\")\n",
    "for (xj in interval_list) {\n",
    "  file.path(basedir, paste0(\"TP\", xj)) %>% \n",
    "    dir.create(., showWarnings = FALSE, recursive = TRUE)\n",
    "}\n",
    "\n",
    "typing_data <- lapply(1:length(interval_list), function(i) {\n",
    "  n1 <- as.character(interval_list[i])\n",
    "  tpkstrains <- metadata[get(interval) <= n1]$Strain\n",
    "  dfz <- tp2$filedata %>% rownames_to_column(\"isolate\") %>%\n",
    "    select(isolate, all_of(hx$h)) %>%\n",
    "    filter(isolate %in% tpkstrains) %>% column_to_rownames(\"isolate\")\n",
    "  dfz[,hx$h[1],drop=FALSE] %>% set_colnames(hx$th[1])\n",
    "}) %>% set_names(as.character(interval_list))\n",
    "\n",
    "td <- typing_data[[length(typing_data)]] %>% rownames_to_column(\"Strain\") %>% as.data.table()\n",
    "\n",
    "parts <- m$dr_matches %>% filter(Strain %in% td$Strain) %>% \n",
    "  left_join(td, ., by = \"Strain\") %>% sectionClusters(.)\n",
    "\n",
    "matched_params <- params$coeffs[2] %>% strsplit(., \",\") %>% unlist() %>% \n",
    "  expand.grid(x = ., k = interval_list) %>% as.data.frame() %>% as.data.table()\n",
    "\n",
    "k <- last(interval_list)\n",
    "tpkstrains <- metadata[get(interval) <= k]$Strain\n",
    "key_cls <- parts$drs[Strain %in% tpkstrains] %>% select(-Strain, -dr) %>% pull() %>% unique()\n",
    "y <- lapply(parts$results, function(x) any(key_cls %in% pull(x, 1))) %>% unlist()\n",
    "fnames <- names(y[y]) # groups of clusters, the pairwise distances for each group\n",
    "\n",
    "m$dr_matches <- m$dr_matches %>% as.data.table()\n",
    "\n",
    "dates <- as.character(unique(matched_params$k))"
   ]
  },
  {
   "cell_type": "code",
   "execution_count": 7,
   "id": "2655ef28",
   "metadata": {},
   "outputs": [],
   "source": [
    "preProcForECC <- function(novel_only = FALSE, k_i, metadata, parts, m, matched_params, tr_dists) {\n",
    "  if (novel_only) {\n",
    "    tpkstrains <- metadata[get(interval) == k_i]$Strain\n",
    "  }else {\n",
    "    tpkstrains <- metadata[get(interval) <= k_i]$Strain\n",
    "  }\n",
    "  \n",
    "  cx <- setdiff(colnames(parts$drs), c(\"Strain\", \"dr\"))\n",
    "  key_cls <- parts$drs[Strain %in% tpkstrains] %>% select(-Strain, -dr) %>% pull() %>% unique()\n",
    "  k_drs <- m$dr_matches[Strain %in% tpkstrains] %>% pull(dr)\n",
    "  cluster_x <- parts$drs[parts$drs[[cx]] %in% pull(parts$results[[f]], cx),-\"Strain\"]\n",
    "  \n",
    "  selected_tp <- m$strain_data %>% filter(Strain %in% tpkstrains)\n",
    "  \n",
    "  eccs <- lapply(as.character(unique(matched_params$x)), function(x_i) {\n",
    "    coeffs <- unlist(strsplit(x_i, split = \"-\"))\n",
    "    tau <- coeffs[2]\n",
    "    gamma <- coeffs[3]\n",
    "    outputDetails(paste0(\"\\n   \", k_i, \"           \", tau, \"                \", gamma))\n",
    "    cluster_y <- cluster_x[dr %in% k_drs]\n",
    "    if (nrow(cluster_y) > 0) {\n",
    "      epiCollectionByClusterV2(selected_tp, tau, gamma, tr_dists, k_i, cluster_y)\n",
    "    }\n",
    "  })\n",
    "  return(eccs)\n",
    "}"
   ]
  },
  {
   "cell_type": "code",
   "execution_count": 10,
   "id": "8825a081",
   "metadata": {},
   "outputs": [
    {
     "ename": "ERROR",
     "evalue": "Error in transformTempDists(., extremes$mint, extremes$maxt): could not find function \"transformTempDists\"\n",
     "output_type": "error",
     "traceback": [
      "Error in transformTempDists(., extremes$mint, extremes$maxt): could not find function \"transformTempDists\"\nTraceback:\n",
      "1. collectTransforms2(dms, extremes)",
      "2. dms$temp %>% transformTempDists(., extremes$mint, extremes$maxt) %>% \n .     set_rownames(., rownames(dms$temp)) %>% set_colnames(., colnames(dms$temp))",
      "3. set_colnames(., colnames(dms$temp))",
      "4. is.data.frame(x)",
      "5. set_rownames(., rownames(dms$temp))",
      "6. is.data.frame(x)"
     ]
    }
   ],
   "source": [
    "for (j in 1:length(fnames)) {\n",
    "  f <- fnames[j]\n",
    "  paste0(\"Group of clusters \", f, \", \", j, \" / \", length(fnames), \" ... \")\n",
    "  paste0(\"     TP             tau             gamma\")\n",
    "  \n",
    "  dms <- file.path(\"../intermediate_data\", params$int_type[2], \"TPN\", \"dists\", paste0(\"group\", f, \".Rds\")) %>% readRDS()\n",
    "  tr_dists <- collectTransforms2(dms, extremes)\n",
    "  \n",
    "  for (k_i in dates) {\n",
    "    general_eccs <- preProcForECC(novel_only = FALSE, k_i, metadata, parts, m, matched_params, tr_dists)\n",
    "    novel_only_eccs <- preProcForECC(novel_only = TRUE, k_i, metadata, parts, m, matched_params, tr_dists)\n",
    "    \n",
    "    if (length(general_eccs[!sapply(general_eccs, is.null)]) > 0) {\n",
    "      save_to_gen <- file.path(basedir, paste0(\"TP\", k_i), paste0(\"group\", f, \".Rds\"))\n",
    "      suppressMessages(Reduce(inner_join, general_eccs)) %>% saveRDS(., save_to_gen)  \n",
    "    }\n",
    "    \n",
    "    if (length(novel_only_eccs[!sapply(novel_only_eccs, is.null)]) > 0) {\n",
    "      save_to_nov <- file.path(basedir, paste0(\"TP\", k_i), paste0(\"novels\", f, \".Rds\"))\n",
    "      suppressMessages(Reduce(inner_join, novel_only_eccs)) %>% saveRDS(., save_to_nov)  \n",
    "    }\n",
    "  }\n",
    "}"
   ]
  },
  {
   "cell_type": "code",
   "execution_count": null,
   "id": "e52630d6",
   "metadata": {},
   "outputs": [],
   "source": [
    "mergingResults <- function(pattern, datafiles) {\n",
    "  df_subset <- datafiles[grepl(pattern, datafiles$fname)]\n",
    "  eccs <- lapply(1:nrow(df_subset), function(i) {\n",
    "    dfy <- readRDS(df_subset$fname[i]) %>% mutate(across(.cols = everything(), as.double))\n",
    "    colnames(dfy) <- gsub(paste0(\"TP\", df_subset$tp[i], \"_\"), \"\", colnames(dfy))\n",
    "    dfy %>% add_column(TP = df_subset$tp[i], .before = 1)\n",
    "  }) %>% bind_rows()\n",
    "  if (pattern == \"novels\") {\n",
    "    inds <- grepl(\"ECC\", colnames(eccs))\n",
    "    colnames(eccs)[inds] <- paste0(colnames(eccs)[inds], \"_Novels_only\")  \n",
    "  }\n",
    "  return(eccs)  \n",
    "}\n",
    "\n",
    "datafiles <- lapply(interval_list, function(tp) {\n",
    "  data.table(tp, fname = list.files(file.path(basedir, paste0(\"TP\", tp)), full.names = TRUE))\n",
    "}) %>% bind_rows() %>% arrange(tp)\n",
    "\n",
    "eccs <- mergingResults(\"group\", datafiles) %>% \n",
    "  left_join(., mergingResults(\"novels\", datafiles))\n",
    "\n",
    "if (params$int_type[2] == \"multiset\") {\n",
    "  res_file <- gsub(\"-\", \"\", params$divs[2]) %>% gsub(\",\", \"-\", .) %>% \n",
    "    paste0(\"ECC-\",.,  \".Rds\") %>% \n",
    "    file.path(file.path(\"results\", params$int_type[2]), .)\n",
    "}else {\n",
    "  res_file <- file.path(\"results\", params$int_type[2], \"ECC-intervals.Rds\")\n",
    "}\n",
    "\n",
    "assert(\"No -Inf ECC results\", !any(is.infinite(abs(pull(eccs[,4])))))\n",
    "saveRDS(eccs, res_file)\n",
    "\n",
    "stopwatch[[\"end_time\"]] <- as.character.POSIXt(Sys.time())\n",
    "timeTaken(pt = \"ECC data collection\", stopwatch) %>% outputDetails(., newcat = TRUE)\n",
    "cat(paste0(\"||\", paste0(rep(\"-\", 30), collapse = \"\"), \" End of ECC metric generation \",\n",
    "           paste0(rep(\"-\", 31), collapse = \"\"), \"||\\n\"))\n",
    "\n",
    "Sys.sleep(3)"
   ]
  }
 ],
 "metadata": {
  "kernelspec": {
   "display_name": "R",
   "language": "R",
   "name": "ir"
  },
  "language_info": {
   "codemirror_mode": "r",
   "file_extension": ".r",
   "mimetype": "text/x-r-source",
   "name": "R",
   "pygments_lexer": "r",
   "version": "4.1.3"
  }
 },
 "nbformat": 4,
 "nbformat_minor": 5
}
