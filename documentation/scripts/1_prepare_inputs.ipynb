{
 "cells": [
  {
   "cell_type": "code",
   "execution_count": 1,
   "id": "d346c421",
   "metadata": {},
   "outputs": [
    {
     "name": "stderr",
     "output_type": "stream",
     "text": [
      "Loading required package: optparse\n",
      "\n",
      "Loading required package: magrittr\n",
      "\n",
      "Loading required package: readr\n",
      "\n",
      "Loading required package: dplyr\n",
      "\n",
      "\n",
      "Attaching package: ‘dplyr’\n",
      "\n",
      "\n",
      "The following objects are masked from ‘package:stats’:\n",
      "\n",
      "    filter, lag\n",
      "\n",
      "\n",
      "The following objects are masked from ‘package:base’:\n",
      "\n",
      "    intersect, setdiff, setequal, union\n",
      "\n",
      "\n",
      "Loading required package: testit\n",
      "\n",
      "Loading required package: data.table\n",
      "\n",
      "\n",
      "Attaching package: ‘data.table’\n",
      "\n",
      "\n",
      "The following objects are masked from ‘package:dplyr’:\n",
      "\n",
      "    between, first, last\n",
      "\n",
      "\n",
      "Loading required package: tibble\n",
      "\n",
      "Loading required package: tsibble\n",
      "\n",
      "Warning message in system(\"timedatectl\", intern = TRUE):\n",
      "“running command 'timedatectl' had status 1”\n",
      "\n",
      "Attaching package: ‘tsibble’\n",
      "\n",
      "\n",
      "The following object is masked from ‘package:data.table’:\n",
      "\n",
      "    key\n",
      "\n",
      "\n",
      "The following objects are masked from ‘package:base’:\n",
      "\n",
      "    intersect, setdiff, union\n",
      "\n",
      "\n",
      "Loading required package: dint\n",
      "\n"
     ]
    },
    {
     "data": {
      "text/html": [
       "'||----------------------- (1/8) Prepping inputs for metric generation -----------------------||'"
      ],
      "text/latex": [
       "'\\textbar{}\\textbar{}----------------------- (1/8) Prepping inputs for metric generation -----------------------\\textbar{}\\textbar{}'"
      ],
      "text/markdown": [
       "'||----------------------- (1/8) Prepping inputs for metric generation -----------------------||'"
      ],
      "text/plain": [
       "[1] \"||----------------------- (1/8) Prepping inputs for metric generation -----------------------||\""
      ]
     },
     "metadata": {},
     "output_type": "display_data"
    },
    {
     "data": {
      "text/html": [
       "'Started process at: 2022-05-10 16:24:37'"
      ],
      "text/latex": [
       "'Started process at: 2022-05-10 16:24:37'"
      ],
      "text/markdown": [
       "'Started process at: 2022-05-10 16:24:37'"
      ],
      "text/plain": [
       "[1] \"Started process at: 2022-05-10 16:24:37\""
      ]
     },
     "metadata": {},
     "output_type": "display_data"
    },
    {
     "data": {
      "text/html": [
       "'Will save formatted inputs to \\'processed\\' directory in inputs directory.'"
      ],
      "text/latex": [
       "'Will save formatted inputs to \\textbackslash{}'processed\\textbackslash{}' directory in inputs directory.'"
      ],
      "text/markdown": [
       "'Will save formatted inputs to \\'processed\\' directory in inputs directory.'"
      ],
      "text/plain": [
       "[1] \"Will save formatted inputs to 'processed' directory in inputs directory.\""
      ]
     },
     "metadata": {},
     "output_type": "display_data"
    }
   ],
   "source": [
    "libs <- c(\"optparse\", \"magrittr\", \"readr\", \"dplyr\", \n",
    "          \"testit\", \"data.table\", \"tibble\", \"tsibble\", \"dint\")\n",
    "y <- lapply(libs, require, character.only = TRUE); rm(y); rm(libs)\n",
    "\n",
    "#\"Metadata file\", \"TP2 cluster assignments\", \"Analysis inputs (details)\", \n",
    "#\"File with Strain column and Pango_lineage column\"))\n",
    "arg <- data.frame(\n",
    "    metadata = \"../inputs/strain_info.txt\", \n",
    "    tp2 = \"../inputs/tp2_clusters_init.txt\", \n",
    "    details = \"../inputs/form_inputs.txt\", \n",
    "    pangolineages = \"../inputs/GISAID Lineages (770000 isolates).csv\"\n",
    ")\n",
    "\n",
    "# FUNCTIONS ----------------------------------------------------------------------------------------------------\n",
    "source(\"../scripts/Misc/formatprep.R\")\n",
    "\n",
    "paste0(\"||\", paste0(rep(\"-\", 23), collapse = \"\"), \" (1/8) Prepping inputs for metric generation \",\n",
    "                     paste0(rep(\"-\", 23), collapse = \"\"), \"||\")\n",
    "paste0(\"Started process at: \", Sys.time())\n",
    "paste0(\"Will save formatted inputs to 'processed' directory in inputs directory.\")"
   ]
  },
  {
   "cell_type": "code",
   "execution_count": 2,
   "id": "b4e88bc9",
   "metadata": {},
   "outputs": [],
   "source": [
    "# Results of \"Form for analysis inputs\" ------------------------------------------------------------------------\n",
    "params <- readLines(arg$details, warn = FALSE) %>% strsplit(., split = \": \")\n",
    "\n",
    "test_params <- c(\"Region of interest\", \"Country of interest\", \n",
    "                 \"Has defined lineage information\",\n",
    "                 \"Has defined date information (day, month, and year)\", \n",
    "                 \"Has province-level data\",\n",
    "                 \"Province of interest\", \n",
    "                 \"Threshold of interest\",\n",
    "                 \"Is in a non-singleton cluster (at TP2)\", \n",
    "                 \"Filtering by date\", \"Column names\",\n",
    "                 \"Interval type\", \"Dividers\", \n",
    "                 \"Week labeling\", \n",
    "                 \"Source-temporal-geographic coefficents\",\n",
    "                 \"Generate heatmaps for top __ largest clusters\", \n",
    "                 \"Min cluster size to consider for largest growth (for heatmaps)\", \"Cluster by\", \n",
    "                 \"Transform heatmap data\", \"Low value color\", \"Mid-range value color\", \"High value color\")\n",
    "\n",
    "assert(\"Input parameters are correctly labelled\", identical(sapply(params, '[[', 1), test_params))\n",
    "rm(test_params)\n",
    "\n",
    "params %<>% set_names(c(\"reg\",\"cou\",\"has_lin\", \"has_date\",\"has_prov\",\"prov\",\n",
    "                        \"th\",\"nsTP2\", \"temp_win\",\"cnames\",\"int_type\",\"divs\", \"wklbl\",\n",
    "                        \"coeffs\", \"numcl\", \"mincl\",\n",
    "                        \"clustby\", \"trheatmaps\", \"lowcol\", \"midcol\", \"highcol\"))\n",
    "\n",
    "a1 <- readData(arg$metadata, FALSE)\n",
    "a2 <- suppressWarnings(readData(arg$metadata, check_enc = TRUE))\n",
    "if (nrow(a1) > nrow(a2)) {strain_data <- a1}else {strain_data <- a2}\n",
    "rm(a1); rm(a2)\n",
    "\n",
    "\n",
    "time2 <- suppressWarnings(readData(arg$tp2, check_enc = TRUE))\n",
    "if (!exists(\"time2\")) {time2 <- readData(arg$tp2, FALSE)}\n",
    "\n",
    "# Check that coefficient sets each add up to 1 -----------------------------------------------------------------\n",
    "coeffset <- params$coeffs[2] %>% strsplit(\",\") %>% unlist()\n",
    "\n",
    "for (i in 1:length(coeffset)) {\n",
    "  x1 <- coeffset[i] %>% strsplit(\"-\") %>% unlist() %>% as.double() %>% sum()\n",
    "  assert(paste0(\"Parameter set \", i, \" sums to 1\"), x1 == 1)  \n",
    "}"
   ]
  },
  {
   "cell_type": "code",
   "execution_count": 3,
   "id": "a1672610",
   "metadata": {},
   "outputs": [],
   "source": [
    "# Check that number of clusters (to generate heatmaps for) is a positive integer (or 0) ------------------------\n",
    "assert(\"Number of clusters (for heatmap generation) is an integer >= 0\", as.integer(params$numcl[2]) >= 0)\n",
    "\n",
    "# LINEAGE INFO -------------------------------------------------------------------------------------------------\n",
    "\n",
    "assert(\"Has lineage info\", as.logical(params$has_lin[2]))\n",
    "x <- updateStrains(\"lin_info\", strain_data, time2)\n",
    "strain_data <- x$sd; time2 <- x$t2\n",
    "rm(x)\n",
    "\n",
    "# COLUMN NAMES -------------------------------------------------------------------------------------------------\n",
    "reqnames <- c(\"Strain\", \"Latitude\", \"Longitude\", \"Day\", \"Month\", \"Year\")\n",
    "cnames <- params$cnames[2] %>% strsplit(split = \",\") %>% unlist()\n",
    "if (nchar(params$cnames[2]) > 3) { # nchar([,]) == 3\n",
    "  if (!(\"none\" %in% cnames)) {\n",
    "    fullcnames <- c(reqnames, cnames)\n",
    "  }else {\n",
    "    fullcnames <- reqnames  \n",
    "  }\n",
    "}else {\n",
    "  fullcnames <- reqnames\n",
    "}"
   ]
  },
  {
   "cell_type": "code",
   "execution_count": 4,
   "id": "fa057a6a",
   "metadata": {},
   "outputs": [],
   "source": [
    "strain_data <- strain_data %>% select(all_of(fullcnames)) %>% \n",
    "  na.omit(Strain) %>% na.omit(Latitude) %>% na.omit(Longitude) %>% na.omit(Day) %>% \n",
    "  na.omit(Month) %>% na.omit(Year)\n",
    "\n",
    "# add column to show which strains are found in TP2\n",
    "strain_data %<>% mutate(TP2 = ifelse(Strain %in% time2$Strain, 1, 0))\n",
    "\n",
    "# REGION OF INTEREST -------------------------------------------------------------------------------------------\n",
    "if (params$reg[2] != \"All\" & \"Region\" %in% colnames(strain_data)) {\n",
    "  strain_data <- strain_data %>% filter(Region %in% params$reg[2])\n",
    "}\n",
    "\n",
    "# COUNTRY OF INTEREST ------------------------------------------------------------------------------------------\n",
    "if (params$cou[2] != \"All\" & \"Country\" %in% colnames(strain_data)) {\n",
    "  strain_data <- strain_data %>% filter(Country %in% params$cou[2])\n",
    "}"
   ]
  },
  {
   "cell_type": "code",
   "execution_count": 5,
   "id": "7ff5144e",
   "metadata": {},
   "outputs": [],
   "source": [
    "# HAS DEFINED DATE INFO ----------------------------------------------------------------------------------------\n",
    "if (as.logical(params$has_date[2])) {\n",
    "  strain_data <- strain_data %>% \n",
    "    filter(!is.na(Day)) %>% filter(!is.na(Month)) %>% filter(!is.na(Year)) %>% \n",
    "    filter(Day != \"\") %>% filter(Month != \"\") %>% filter(Year != \"\")\n",
    "}\n",
    "\n",
    "if (nchar(params$temp_win[2]) > nchar(\"[,]\")) {\n",
    "  tempwindow <- params$temp_win[2] %>% gsub(\"\\\\[|\\\\]\", \"\", .) %>% \n",
    "    strsplit(., \",\") %>% unlist()\n",
    "  \n",
    "  strain_data %<>% mutate(Date = as.Date(paste(Year, Month, Day, sep = \"-\"))) %>% \n",
    "    filter(Date >= tempwindow[1] & Date <= tempwindow[2])\n",
    "  \n",
    "  y <- updateStrains(\"temp_win\", strain_data, time2)\n",
    "  strain_data <- y$sd; time2 <- y$t2\n",
    "}"
   ]
  },
  {
   "cell_type": "code",
   "execution_count": 6,
   "id": "4de911c7",
   "metadata": {},
   "outputs": [],
   "source": [
    "# HAS PROVINCE-LEVEL DATA --------------------------------------------------------------------------------------\n",
    "\n",
    "if (as.logical(params$has_prov[2])) {\n",
    "  strain_data <- strain_data %>% filter(!is.na(Province)) %>% filter(Province != \"\")\n",
    "  \n",
    "  if (params$prov[2] != \"All\") {\n",
    "    strain_data <- strain_data %>% filter(Province %in% params$prov[2])\n",
    "  }\n",
    "  \n",
    "  # Strains with metadata and defined lineage info at TP2\n",
    "  z <- updateStrains(\"aft_prov\", strain_data, time2)\n",
    "  strain_data <- z$sd; time2 <- z$t2\n",
    "}"
   ]
  },
  {
   "cell_type": "code",
   "execution_count": 7,
   "id": "010f9752",
   "metadata": {},
   "outputs": [
    {
     "data": {
      "text/html": [
       "'Making table for matching TP2 clusters to integers (for metrics process) ...'"
      ],
      "text/latex": [
       "'Making table for matching TP2 clusters to integers (for metrics process) ...'"
      ],
      "text/markdown": [
       "'Making table for matching TP2 clusters to integers (for metrics process) ...'"
      ],
      "text/plain": [
       "[1] \"Making table for matching TP2 clusters to integers (for metrics process) ...\""
      ]
     },
     "metadata": {},
     "output_type": "display_data"
    }
   ],
   "source": [
    "# NON-SINGLETON CLUSTERS ---------------------------------------------------------------------------------------\n",
    "paste0(\"Making table for matching TP2 clusters to integers (for metrics process) ...\")\n",
    "# processed_tp2 <- intClusters(time2); #rm(time2)\n",
    "tp2_processed <- natNumberClusters(time2)\n",
    "\n",
    "th <- params$th[2]\n",
    "\n",
    "if (as.logical(params$nsTP2[2])) {\n",
    "  remove_strains <- strainsInSingletons(tp2_processed, th)\n",
    "  tp2_processed$new_cols %<>% filter(!(Strain %in% remove_strains))\n",
    "  strain_data %<>% filter(!(Strain %in% remove_strains))\n",
    "}\n",
    "\n",
    "if (!is.na(arg$pangolineages)) {\n",
    "  if (file.exists(arg$pangolineages)) {\n",
    "    tp2_processed$strain_pango <- read.csv(arg$pangolineages) %>% \n",
    "      as.data.table() %>% select(Strain, T0.original, Pango_lineage)\n",
    "    \n",
    "    tp2_processed$pango_clusters <- tp2_processed$new_cols %>% \n",
    "      melt.data.table(id.vars = \"Strain\", variable.factor = FALSE) %>% \n",
    "      set_colnames(c(\"Strain\", \"new_h\", \"new_cl\")) %>% \n",
    "      mutate(across(new_h, as.integer)) %>% \n",
    "      left_join(., tp2_processed$strain_pango, by = \"Strain\") %>% \n",
    "      left_join(., tp2_processed$lookup_table, by = c(\"new_h\", \"new_cl\")) %>% \n",
    "      select(Strain, T0.original, Pango_lineage, old_h, old_cl, new_h, new_cl)\n",
    "  }\n",
    "}"
   ]
  },
  {
   "cell_type": "code",
   "execution_count": 8,
   "id": "bd7160a9",
   "metadata": {},
   "outputs": [],
   "source": [
    "# INTERVAL TYPE ------------------------------------------------------------------------------------------------\n",
    "save_to <- file.path(\"../intermediate_data\", params$int_type[2])\n",
    "dir.create(save_to, showWarnings = FALSE)\n",
    "dir.create(file.path(save_to, \"cgms\"), showWarnings = FALSE, recursive = TRUE)\n",
    "dir.create(file.path(save_to, \"eccs\"), showWarnings = FALSE, recursive = TRUE)\n",
    "dir.create(file.path(save_to, \"avgdists\"), showWarnings = FALSE, recursive = TRUE)\n",
    "dir.create(file.path(\"results\", params$int_type[2]), showWarnings = FALSE)"
   ]
  },
  {
   "cell_type": "code",
   "execution_count": 9,
   "id": "94c3a771",
   "metadata": {},
   "outputs": [],
   "source": [
    "# YearMonth:\n",
    "#   if a strain was added on or before the last day of the month, given that YearMonth designation\n",
    "# metadata <- strain_data %>% \n",
    "#   mutate(Date = as.Date(paste(Year, Month, Day, sep = \"-\"))) %>% \n",
    "#   mutate(YearMonth = format(Date, \"%Y-%m\")) %>% \n",
    "#   mutate(YearWeek = strftime(as.Date(Date), format = \"%Y-%V\")) %>% \n",
    "#   arrange(YearWeek) %>% as.data.table()\n",
    "metadata <- strain_data %>% \n",
    "  mutate(Date = as.Date(paste(Year, Month, Day, sep = \"-\"))) %>% \n",
    "  mutate(YearMonth = format(Date, \"%Y-%m\")) %>% as.data.table() %>% \n",
    "  mutate(YearWeek = gsub(\" W\", \"-\", yearweek(Date))) %>% \n",
    "  arrange(YearWeek) %>% as.data.table()\n",
    "\n",
    "overlap_weeks <- as.logical(params$wklbl[2])\n",
    "if (!overlap_weeks) {\n",
    "  # start Date to YearWeek conversions at first day of each new year \n",
    "  # i.e. don't label first week of new year with the label of the last week of \n",
    "  # current year (i.e. if last week of 2020 is week 53, don't label the first \n",
    "  # few days of 2021 with week 53, instead use 01)\n",
    "  for (Yr_i in sort(unique(metadata$Year))[-1]) {\n",
    "    Yr <- Yr_i %>% as.character() %>% as.Date(\"%Y\")\n",
    "    yr_start = wday(dint::first_of_year(Yr))\n",
    "    metadata[Year == Yr_i] <- metadata[Year == Yr_i] %>% \n",
    "      mutate(YearWeek = gsub(\" W\", \"-\", yearweek(Date, week_start = yr_start-1)))\n",
    "  }\n",
    "}\n",
    "\n",
    "# To confirm: \n",
    "# metadata[Year == \"2020\"] %>% arrange(YearWeek, Month, Day)\n",
    "# metadata[Year == \"2021\"] %>% arrange(YearWeek, Month, Day)"
   ]
  },
  {
   "cell_type": "code",
   "execution_count": 10,
   "id": "cac7f9b0",
   "metadata": {},
   "outputs": [],
   "source": [
    "f2 <- tp2_processed$new_cols %>% as.data.table() %>% select(Strain, all_of(params$th[2])) %>% \n",
    "  rename(isolate = Strain) %>% arrange(isolate)\n",
    "\n",
    "if (params$int_type[2] == \"weekly\") {\n",
    "  interval <- \"YearWeek\"\n",
    "  interval_list <- metadata$YearWeek %>% unique() %>% sort()\n",
    "  \n",
    "  interval_clusters <- metadata %>% select(c(Strain, all_of(interval), Date)) %>% \n",
    "    inner_join(., f2, by = c(\"Strain\" = \"isolate\")) %>% \n",
    "    set_colnames(c(\"isolate\", \"ivl\", \"Date\", \"heightx\"))\n",
    "  \n",
    "}else if (params$int_type[2] == \"monthly\") {\n",
    "  interval <- \"YearMonth\"\n",
    "  interval_list <- metadata %>% pull(interval) %>% unique() %>% sort()\n",
    "  \n",
    "  interval_clusters <- metadata %>% select(c(Strain, all_of(interval), Date)) %>% \n",
    "    inner_join(., f2, by = c(\"Strain\" = \"isolate\")) %>% \n",
    "    set_colnames(c(\"isolate\", \"ivl\", \"Date\", \"heightx\"))\n",
    "  \n",
    "}else if (params$int_type[2] == \"multiset\") {\n",
    "  setdivider <- strsplit(params$divs[2], split = \",\") %>% unlist() %>% as.Date(., format = \"%Y-%m-%d\")\n",
    "  \n",
    "  assertion1 <- lapply(setdivider, function(x) nchar(as.character(x)) == 10) %>% unlist()\n",
    "  assert(\"Provided input(s) has/have 10 characters\", all(assertion1))\n",
    "  assert(\"Provided input(s) is/are date type, correct format\", !any(is.na(setdivider)))\n",
    "  assertion3 <- lapply(setdivider, function(x) x >= min(metadata$Date) & x <= max(metadata$Date)) %>% unlist()\n",
    "  assert(\"Provided input(s) is/are between min date and max date\", all(assertion3))\n",
    "  \n",
    "  sdiv <- c(min(metadata$Date), setdivider, max(metadata$Date))\n",
    "  fdivs <- tibble(start = sdiv[1:(length(sdiv)-1)], end = sdiv[2:length(sdiv)]) %>% \n",
    "    mutate(ivl = paste0(\"set\", 1:nrow(.)))\n",
    "  \n",
    "  metadata <- metadata %>% add_column(Multiset = \"\")\n",
    "  for (i in 1:nrow(fdivs)) {\n",
    "    metadata[metadata$Date >= fdivs$start[i] & metadata$Date < fdivs$end[i]]$Multiset <- fdivs$ivl[i]\n",
    "  }\n",
    "  metadata[metadata$Date == fdivs$end[i]]$Multiset <- fdivs$ivl[i]\n",
    "  rm(fdivs)\n",
    "  \n",
    "  interval <- \"Multiset\"\n",
    "  interval_list <- metadata %>% pull(interval) %>% unique() %>% sort()\n",
    "  \n",
    "  interval_clusters <- metadata %>% select(c(Strain, Multiset)) %>%\n",
    "    inner_join(., f2, by = c(\"Strain\" = \"isolate\")) %>%\n",
    "    set_colnames(c(\"isolate\", \"ivl\", \"heightx\"))\n",
    "}\n",
    "rm(f2)\n",
    "\n",
    "clustersets <- vector(mode = \"list\", length = length(interval_list)) %>% set_names(interval_list)\n",
    "\n",
    "for (xj in interval_list) {\n",
    "  # cluster assignments for clusters that changed when interval i strains were added\n",
    "  int_j <- interval_clusters[ivl == xj]\n",
    "  sofar <- interval_clusters[ivl <= xj]\n",
    "  clustersets[[xj]] <- list(int_j, sofar) %>% set_names(c(\"ivl\", \"sofar\"))\n",
    "}\n",
    "rm(sofar); rm(int_j); rm(interval_clusters); rm(interval_list)"
   ]
  },
  {
   "cell_type": "code",
   "execution_count": 11,
   "id": "b8a8df96",
   "metadata": {},
   "outputs": [
    {
     "data": {
      "text/html": [
       "'Finished process at: 2022-05-10 16:24:37'"
      ],
      "text/latex": [
       "'Finished process at: 2022-05-10 16:24:37'"
      ],
      "text/markdown": [
       "'Finished process at: 2022-05-10 16:24:37'"
      ],
      "text/plain": [
       "[1] \"Finished process at: 2022-05-10 16:24:37\""
      ]
     },
     "metadata": {},
     "output_type": "display_data"
    },
    {
     "data": {
      "text/html": [
       "'||-------------- Saved formatted inputs to \\'processed\\' in the inputs directory---------------||'"
      ],
      "text/latex": [
       "'\\textbar{}\\textbar{}-------------- Saved formatted inputs to \\textbackslash{}'processed\\textbackslash{}' in the inputs directory---------------\\textbar{}\\textbar{}'"
      ],
      "text/markdown": [
       "'||-------------- Saved formatted inputs to \\'processed\\' in the inputs directory---------------||'"
      ],
      "text/plain": [
       "[1] \"||-------------- Saved formatted inputs to 'processed' in the inputs directory---------------||\""
      ]
     },
     "metadata": {},
     "output_type": "display_data"
    }
   ],
   "source": [
    "# SAVING RESULTS -----------------------------------------------------------------------------------------------\n",
    "saveRDS(clustersets, file.path(save_to, \"clustersets.Rds\")); rm(clustersets)\n",
    "writeData(metadata, file.path(\"../inputs\", \"processed\", \"strain_info.txt\")); rm(metadata)\n",
    "saveRDS(tp2_processed, file.path(\"../inputs\", \"processed\", \"allTP2.Rds\"))\n",
    "\n",
    "paste0(\"Finished process at: \", Sys.time())\n",
    "paste0(\"||\", paste0(rep(\"-\", 14), collapse = \"\"), \n",
    "       \" Saved formatted inputs to 'processed' in the \",\n",
    "       \"inputs\", \" directory\", paste0(rep(\"-\", 15), collapse = \"\"), \"||\")"
   ]
  }
 ],
 "metadata": {
  "kernelspec": {
   "display_name": "R",
   "language": "R",
   "name": "ir"
  },
  "language_info": {
   "codemirror_mode": "r",
   "file_extension": ".r",
   "mimetype": "text/x-r-source",
   "name": "R",
   "pygments_lexer": "r",
   "version": "4.1.3"
  }
 },
 "nbformat": 4,
 "nbformat_minor": 5
}
