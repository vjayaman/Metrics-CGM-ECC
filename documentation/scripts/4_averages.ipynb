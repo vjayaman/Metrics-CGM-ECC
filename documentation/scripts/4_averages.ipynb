{
 "cells": [
  {
   "cell_type": "code",
   "execution_count": 1,
   "id": "32647e60",
   "metadata": {},
   "outputs": [
    {
     "name": "stderr",
     "output_type": "stream",
     "text": [
      "Loading required package: R6\n",
      "\n",
      "Loading required package: testit\n",
      "\n",
      "Loading required package: optparse\n",
      "\n",
      "Loading required package: magrittr\n",
      "\n",
      "Loading required package: dplyr\n",
      "\n",
      "\n",
      "Attaching package: ‘dplyr’\n",
      "\n",
      "\n",
      "The following objects are masked from ‘package:stats’:\n",
      "\n",
      "    filter, lag\n",
      "\n",
      "\n",
      "The following objects are masked from ‘package:base’:\n",
      "\n",
      "    intersect, setdiff, setequal, union\n",
      "\n",
      "\n",
      "Loading required package: tibble\n",
      "\n",
      "Loading required package: readr\n",
      "\n",
      "Loading required package: reshape2\n",
      "\n",
      "Loading required package: fossil\n",
      "\n",
      "Loading required package: sp\n",
      "\n",
      "Loading required package: maps\n",
      "\n",
      "Loading required package: shapefiles\n",
      "\n",
      "Loading required package: foreign\n",
      "\n",
      "\n",
      "Attaching package: ‘shapefiles’\n",
      "\n",
      "\n",
      "The following objects are masked from ‘package:foreign’:\n",
      "\n",
      "    read.dbf, write.dbf\n",
      "\n",
      "\n",
      "Loading required package: tidyr\n",
      "\n",
      "\n",
      "Attaching package: ‘tidyr’\n",
      "\n",
      "\n",
      "The following object is masked from ‘package:reshape2’:\n",
      "\n",
      "    smiths\n",
      "\n",
      "\n",
      "The following object is masked from ‘package:magrittr’:\n",
      "\n",
      "    extract\n",
      "\n",
      "\n",
      "Loading required package: purrr\n",
      "\n",
      "\n",
      "Attaching package: ‘purrr’\n",
      "\n",
      "\n",
      "The following object is masked from ‘package:maps’:\n",
      "\n",
      "    map\n",
      "\n",
      "\n",
      "The following object is masked from ‘package:magrittr’:\n",
      "\n",
      "    set_names\n",
      "\n",
      "\n",
      "Loading required package: data.table\n",
      "\n",
      "\n",
      "Attaching package: ‘data.table’\n",
      "\n",
      "\n",
      "The following object is masked from ‘package:purrr’:\n",
      "\n",
      "    transpose\n",
      "\n",
      "\n",
      "The following objects are masked from ‘package:reshape2’:\n",
      "\n",
      "    dcast, melt\n",
      "\n",
      "\n",
      "The following objects are masked from ‘package:dplyr’:\n",
      "\n",
      "    between, first, last\n",
      "\n",
      "\n",
      "Loading required package: Rcpp\n",
      "\n",
      "Loading required package: RcppArmadillo\n",
      "\n"
     ]
    },
    {
     "name": "stdout",
     "output_type": "stream",
     "text": [
      "||--------------------------- (4/8) Average distances collection ----------------------------||\n",
      "Started process at: 2022-05-10 16:38:21"
     ]
    }
   ],
   "source": [
    "libs <- c(\"R6\",\"testit\",\"optparse\",\"magrittr\",\"dplyr\",\"tibble\",\"readr\",\n",
    "          \"reshape2\",\"fossil\",\"tidyr\",\"purrr\", \"data.table\", \"Rcpp\", \"RcppArmadillo\")\n",
    "y <- lapply(libs, require, character.only = TRUE)\n",
    "assert(\"All packages loaded correctly\", all(unlist(y))); rm(libs); rm(y)\n",
    "\n",
    "cat(paste0(\"||\", paste0(rep(\"-\", 27), collapse = \"\"), \" (4/8) Average distances collection \",\n",
    "           paste0(rep(\"-\", 28), collapse = \"\"), \"||\\nStarted process at: \", Sys.time()))\n",
    "\n",
    "stopwatch <- list(\"start_time\" = as.character.POSIXt(Sys.time()), \"end_time\" = NULL)"
   ]
  },
  {
   "cell_type": "code",
   "execution_count": 3,
   "id": "990fc068",
   "metadata": {},
   "outputs": [
    {
     "data": {
      "text/html": [
       "'Sourcing required functions, reading in input data'"
      ],
      "text/latex": [
       "'Sourcing required functions, reading in input data'"
      ],
      "text/markdown": [
       "'Sourcing required functions, reading in input data'"
      ],
      "text/plain": [
       "[1] \"Sourcing required functions, reading in input data\""
      ]
     },
     "metadata": {},
     "output_type": "display_data"
    }
   ],
   "source": [
    "# Current working directory should be Metrics-CGM-ECC/\n",
    "files <- c(\"ECC/classes_ecc.R\", \"ECC/ecc_functions.R\", \"ECC/dist_functions.R\")\n",
    "invisible(sapply(files, source)); rm(files)\n",
    "\n",
    "paste0(\"Sourcing required functions, reading in input data\")\n",
    "\n",
    "#sourceCpp(\"epicohversions.cpp\")\n",
    "source(\"arguments.R\")"
   ]
  },
  {
   "cell_type": "code",
   "execution_count": 4,
   "id": "e3fba3bd",
   "metadata": {},
   "outputs": [],
   "source": [
    "# dm <- dms[[\"temp\"]]; cnames <- \"Date\"\n",
    "groupXAvgDists <- function(dm, groupX, assignments, strain_data, cnames, metadata) {\n",
    "  clustersX <- pull(groupX, 1)\n",
    "\n",
    "  avgdists <- lapply(clustersX, function(x) {\n",
    "    cx <- assignments[Hx == x]\n",
    "\n",
    "    num_unique_cases <- strain_data[Strain %in% cx$Strain] %>%\n",
    "      select(all_of(cnames)) %>% unique() %>% nrow()\n",
    "    if (num_unique_cases == 1) {\n",
    "      return(0)\n",
    "    }else {\n",
    "      dr_counts <- cx %>% group_by(dr) %>% summarise(n_drs = n()) %>% as.data.table()\n",
    "      dmx <- dm[rownames(dm) %in% dr_counts$dr, colnames(dm) %in% dr_counts$dr,drop=FALSE]\n",
    "      \n",
    "      dr_counts <- dr_counts[match(rownames(dmx), dr_counts$dr)]\n",
    "      dmxcols <- sweep(dmx, MARGIN = 2, dr_counts$n_drs, `*`)\n",
    "      dmxrest <- sweep(dmxcols, MARGIN = 1, dr_counts$n_drs, `*`)\n",
    "      dmxrest <- dmxrest[upper.tri(dmxrest)]\n",
    "      \n",
    "      allstrains <- matrix(nrow = sum(dr_counts$n_drs), ncol = sum(dr_counts$n_drs))\n",
    "      avg_dist <- sum(dmxrest)/length(allstrains[upper.tri(allstrains)])\n",
    "      return(avg_dist)\n",
    "    }\n",
    "    # if (is.na(avg_dist)) {print(x)}\n",
    "  }) %>% unlist() %>% data.table(Hx = clustersX, AvgDist = .)\n",
    "  assert(\"No NA avg dists\", nrow(avgdists[is.na(AvgDist)]) == 0)\n",
    "  return(avgdists)\n",
    "}"
   ]
  },
  {
   "cell_type": "code",
   "execution_count": 5,
   "id": "9a847667",
   "metadata": {},
   "outputs": [
    {
     "data": {
      "text/html": [
       "'Processing input data, formatting ...'"
      ],
      "text/latex": [
       "'Processing input data, formatting ...'"
      ],
      "text/markdown": [
       "'Processing input data, formatting ...'"
      ],
      "text/plain": [
       "[1] \"Processing input data, formatting ...\""
      ]
     },
     "metadata": {},
     "output_type": "display_data"
    },
    {
     "name": "stderr",
     "output_type": "stream",
     "text": [
      "\u001b[1mRows: \u001b[22m\u001b[34m111\u001b[39m \u001b[1mColumns: \u001b[22m\u001b[34m14\u001b[39m\n",
      "\u001b[36m──\u001b[39m \u001b[1mColumn specification\u001b[22m \u001b[36m────────────────────────────────────────────────────────────────────────────────────────────────\u001b[39m\n",
      "\u001b[1mDelimiter:\u001b[22m \"\\t\"\n",
      "\u001b[31mchr\u001b[39m  (7): Strain, Source, Country, Province, City, YearMonth, YearWeek\n",
      "\u001b[32mdbl\u001b[39m  (6): Latitude, Longitude, Day, Month, Year, TP2\n",
      "\u001b[34mdate\u001b[39m (1): Date\n",
      "\n",
      "\u001b[36mℹ\u001b[39m Use `spec()` to retrieve the full column specification for this data.\n",
      "\u001b[36mℹ\u001b[39m Specify the column types or set `show_col_types = FALSE` to quiet this message.\n"
     ]
    }
   ],
   "source": [
    "paste0(\"Processing input data, formatting ...\")\n",
    "\n",
    "hx <- strsplit(as.character(params$th[2]), split = \",\") %>% unlist() %>% tibble(h = ., th = paste0(\"T\", .))\n",
    "\n",
    "fdata <- readRDS(arg$tpn)$new_cols %>% column_to_rownames(\"Strain\")\n",
    "tp2 <- Timepoint$new(arg$tpn, \"tp2\", fdata)$Process(hx)$listHeights(hx)\n",
    "\n",
    "m <- read_tsv(arg$metadata) %>% processedStrains()\n",
    "metadata <- m$strain_data %>% as.data.table()\n",
    "\n",
    "if (params$int_type[2] == \"multiset\") {\n",
    "  interval <- \"Multiset\"\n",
    "}else if (params$int_type[2] == \"monthly\") {\n",
    "  interval <- \"YearMonth\"\n",
    "}else if (params$int_type[2] == \"weekly\") {\n",
    "  interval <- \"YearWeek\"\n",
    "}"
   ]
  },
  {
   "cell_type": "code",
   "execution_count": 6,
   "id": "2d3ebbe8",
   "metadata": {},
   "outputs": [],
   "source": [
    "clustersets <- file.path(\"../intermediate_data\", params$int_type[2], \"clustersets.Rds\") %>% readRDS(.)\n",
    "interval_list <- names(clustersets); rm(clustersets)\n",
    "basedir <- file.path(\"../intermediate_data\", params$int_type[2], \"avgdists\")\n",
    "parts <- file.path(\"../intermediate_data\", params$int_type[2], \"TPN\", \"parts.Rds\") %>% readRDS()\n",
    "groups <- names(parts$results)\n",
    "\n",
    "tpnfiles <- lapply(names(parts$results), function(x) parts$results[[x]] %>% add_column(f = x) %>% \n",
    "                     select(-n)) %>% bind_rows() %>% as.data.table() %>% set_colnames(c(\"Hx\", \"f\"))\n",
    "\n",
    "strain_data <- as.data.table(m$strain_data)"
   ]
  },
  {
   "cell_type": "code",
   "execution_count": 7,
   "id": "d4be1a41",
   "metadata": {},
   "outputs": [],
   "source": [
    "typing_data <- lapply(1:length(interval_list), function(i) {\n",
    "  n1 <- as.character(interval_list[i])\n",
    "  tpkstrains <- metadata[get(interval) <= n1]$Strain\n",
    "  dfz <- tp2$filedata %>% rownames_to_column(\"isolate\") %>%\n",
    "    select(isolate, all_of(hx$h)) %>%\n",
    "    filter(isolate %in% tpkstrains) %>% column_to_rownames(\"isolate\")\n",
    "  dfz[,hx$h[1],drop=FALSE] %>% set_colnames(hx$th[1])\n",
    "}) %>% set_names(as.character(interval_list))"
   ]
  },
  {
   "cell_type": "code",
   "execution_count": 10,
   "id": "d69f8745",
   "metadata": {},
   "outputs": [
    {
     "data": {
      "text/html": [
       "'Collecting average distances (for each cluster) at ...'"
      ],
      "text/latex": [
       "'Collecting average distances (for each cluster) at ...'"
      ],
      "text/markdown": [
       "'Collecting average distances (for each cluster) at ...'"
      ],
      "text/plain": [
       "[1] \"Collecting average distances (for each cluster) at ...\""
      ]
     },
     "metadata": {},
     "output_type": "display_data"
    },
    {
     "name": "stdout",
     "output_type": "stream",
     "text": [
      "TP2020-03:\n"
     ]
    },
    {
     "name": "stderr",
     "output_type": "stream",
     "text": [
      "TP2020-03:\n",
      "\n"
     ]
    },
    {
     "name": "stdout",
     "output_type": "stream",
     "text": [
      "  |======================================================================| 100%\n",
      "TP2020-04:\n"
     ]
    },
    {
     "name": "stderr",
     "output_type": "stream",
     "text": [
      "TP2020-04:\n",
      "\n"
     ]
    },
    {
     "name": "stdout",
     "output_type": "stream",
     "text": [
      "  |======================================================================| 100%\n",
      "TP2020-05:\n"
     ]
    },
    {
     "name": "stderr",
     "output_type": "stream",
     "text": [
      "TP2020-05:\n",
      "\n"
     ]
    },
    {
     "name": "stdout",
     "output_type": "stream",
     "text": [
      "  |======================================================================| 100%\n",
      "TP2020-06:\n"
     ]
    },
    {
     "name": "stderr",
     "output_type": "stream",
     "text": [
      "TP2020-06:\n",
      "\n"
     ]
    },
    {
     "name": "stdout",
     "output_type": "stream",
     "text": [
      "  |======================================================================| 100%\n",
      "TP2020-07:\n"
     ]
    },
    {
     "name": "stderr",
     "output_type": "stream",
     "text": [
      "TP2020-07:\n",
      "\n"
     ]
    },
    {
     "name": "stdout",
     "output_type": "stream",
     "text": [
      "  |======================================================================| 100%\n",
      "TP2020-08:\n"
     ]
    },
    {
     "name": "stderr",
     "output_type": "stream",
     "text": [
      "TP2020-08:\n",
      "\n"
     ]
    },
    {
     "name": "stdout",
     "output_type": "stream",
     "text": [
      "  |======================================================================| 100%\n",
      "TP2020-09:\n"
     ]
    },
    {
     "name": "stderr",
     "output_type": "stream",
     "text": [
      "TP2020-09:\n",
      "\n"
     ]
    },
    {
     "name": "stdout",
     "output_type": "stream",
     "text": [
      "  |======================================================================| 100%\n",
      "TP2020-10:\n"
     ]
    },
    {
     "name": "stderr",
     "output_type": "stream",
     "text": [
      "TP2020-10:\n",
      "\n"
     ]
    },
    {
     "name": "stdout",
     "output_type": "stream",
     "text": [
      "  |======================================================================| 100%\n",
      "TP2020-11:\n"
     ]
    },
    {
     "name": "stderr",
     "output_type": "stream",
     "text": [
      "TP2020-11:\n",
      "\n"
     ]
    },
    {
     "name": "stdout",
     "output_type": "stream",
     "text": [
      "  |======================================================================| 100%\n",
      "TP2020-12:\n"
     ]
    },
    {
     "name": "stderr",
     "output_type": "stream",
     "text": [
      "TP2020-12:\n",
      "\n"
     ]
    },
    {
     "name": "stdout",
     "output_type": "stream",
     "text": [
      "  |======================================================================| 100%\n",
      "TP2020-13:\n"
     ]
    },
    {
     "name": "stderr",
     "output_type": "stream",
     "text": [
      "TP2020-13:\n",
      "\n"
     ]
    },
    {
     "name": "stdout",
     "output_type": "stream",
     "text": [
      "  |======================================================================| 100%\n"
     ]
    }
   ],
   "source": [
    "paste0(\"Collecting average distances (for each cluster) at ...\")\n",
    "\n",
    "for (tdx in names(typing_data)) {\n",
    "  outputDetails(paste0(\"TP\", tdx, \":\"), newcat = TRUE)\n",
    "  \n",
    "  td <- typing_data[[tdx]] %>% rownames_to_column(\"Strain\") %>% as.data.table()\n",
    "  pd1 <- parts$drs[Strain %in% td$Strain] %>% set_colnames(c(\"Strain\", \"Hx\", \"dr\")) %>% \n",
    "    inner_join(., tpnfiles, by = \"Hx\") %>% arrange(f)\n",
    "  pd2 <- pd1 %>% group_by(Hx) %>% summarise(n = n()) %>% left_join(pd1, ., by = \"Hx\") %>% \n",
    "    select(-Strain) %>% unique()\n",
    "  \n",
    "  assignments <- inner_join(m$dr_matches, td, by = \"Strain\") %>% \n",
    "    set_colnames(c(\"Strain\", \"dr\", \"Hx\")) %>% as.data.table()\n",
    "  \n",
    "  sizes <- td %>% set_colnames(c(\"Strain\", \"Hx\")) %>% group_by(Hx) %>% summarise(Size = n())\n",
    "  \n",
    "  pb <- txtProgressBar(min = 0, max = length(groups), initial = 0, style = 3)\n",
    "  avg_dists <- lapply(1:length(groups), function(i) {\n",
    "    setTxtProgressBar(pb, i)\n",
    "    # print(i)\n",
    "    x_i <- groups[i]\n",
    "    dms <- paste0(\"group\", x_i, \".Rds\") %>% \n",
    "      file.path(\"../intermediate_data\", params$int_type[2], \"TPN\", \"dists\", .) %>% readRDS()\n",
    "    groupX <- pd2[f == x_i] %>% select(Hx, n) %>% unique()\n",
    "\n",
    "    file.path()\n",
    "    if (nrow(groupX) > 0) {\n",
    "      temp_dists <- dms[[\"temp\"]] %>% \n",
    "        groupXAvgDists(., groupX, assignments, strain_data, \"Date\", metadata) %>% \n",
    "        rename(Temp.Avg.Dist = AvgDist)\n",
    "      \n",
    "      geo_dists <- dms[[\"geo\"]] %>% \n",
    "        groupXAvgDists(., groupX, assignments, strain_data, c(\"Longitude\", \"Latitude\"), metadata) %>% \n",
    "        rename(Geo.Avg.Dist = AvgDist)  \n",
    "      \n",
    "      return(merge.data.table(temp_dists, geo_dists))\n",
    "    }\n",
    "  }) %>% bind_rows() %>% inner_join(., sizes, by = \"Hx\")\n",
    "  close(pb)\n",
    "  \n",
    "  paste0(\"   Checking that only clusters with just one unique info pair have average distance 0\")\n",
    "  assert(\"No NA avg geo distances\", !any(is.na(avg_dists$Geo.Avg.Dist)))\n",
    "  assert(\"No NA avg temp distances\", !any(is.na(avg_dists$Temp.Avg.Dist)))\n",
    "  \n",
    "  # Check that clusters with the average pairwise distance being 0 have only one\n",
    "  # unique date / coordinate pair, as is required to get a distance result of 0\n",
    "  renamed_tping <- td %>% set_colnames(c(\"Strain\", \"Hx\"))\n",
    "  \n",
    "  temp_zero_clusters <- avg_dists[Temp.Avg.Dist == 0]$Hx\n",
    "  for (x in temp_zero_clusters) {\n",
    "    y <- renamed_tping[Hx == x] %>% pull(Strain)\n",
    "    unidate <- strain_data[Strain %in% y, Date] %>% unique() %>% length()\n",
    "    assert(paste0(\"Cluster \", x, \" has only one unique date\"), unidate == 1)\n",
    "  }\n",
    "  \n",
    "  geo_zero_clusters <- avg_dists[Geo.Avg.Dist == 0]$Hx\n",
    "  for (x in geo_zero_clusters) {\n",
    "    y <- renamed_tping[Hx == x] %>% pull(Strain)\n",
    "    uniloc <- strain_data[Strain %in% y] %>% select(Latitude, Longitude) %>% unique() %>% nrow()\n",
    "    assert(paste0(\"Cluster \", x, \" has only one unique coordinate pair\"), uniloc == 1)\n",
    "  }\n",
    "\n",
    "  colnames(avg_dists)[which(colnames(avg_dists) == \"Hx\")] <- hx$th\n",
    "  \n",
    "  # Collects raw cluster averages as well\n",
    "  curr_data <- left_join(td, strain_data, by = \"Strain\") %>% \n",
    "    set_colnames(gsub(hx$th, \"heightx\", colnames(.)))\n",
    "  clusters <- curr_data %>% pull(heightx) %>% unique()\n",
    "  \n",
    "  reg_avgs <- lapply(clusters, function(c_i) {\n",
    "    dfx <- curr_data[heightx == c_i]\n",
    "    data.table(c_i, mean(dfx$Date), mean(dfx$Longitude), mean(dfx$Latitude))\n",
    "  }) %>% bind_rows() %>% \n",
    "    set_colnames(c(hx$th, \"Avg.Date\", \"Avg.Longitude\", \"Avg.Latitude\"))\n",
    "  \n",
    "  merge.data.table(avg_dists, reg_avgs) %>% \n",
    "    set_colnames(gsub(\"Size\", paste0(hx$th, \"_Size\"), colnames(.))) %>% \n",
    "    add_column(TP = tdx, .before = 1) %>% \n",
    "    saveRDS(., file.path(basedir, paste0(\"TP\", tdx, \".Rds\")))\n",
    "}"
   ]
  },
  {
   "cell_type": "code",
   "execution_count": 11,
   "id": "24f0de2a",
   "metadata": {},
   "outputs": [
    {
     "data": {
      "text/html": [
       "'Merging average distance results and saving to \\'../results/weekly/AVGS-intervals.Rds\\''"
      ],
      "text/latex": [
       "'Merging average distance results and saving to \\textbackslash{}'../results/weekly/AVGS-intervals.Rds\\textbackslash{}''"
      ],
      "text/markdown": [
       "'Merging average distance results and saving to \\'../results/weekly/AVGS-intervals.Rds\\''"
      ],
      "text/plain": [
       "[1] \"Merging average distance results and saving to '../results/weekly/AVGS-intervals.Rds'\""
      ]
     },
     "metadata": {},
     "output_type": "display_data"
    },
    {
     "data": {
      "text/html": [
       "'\\nThe average distances collection process took 2 minute(s) and 49 second(s).'"
      ],
      "text/latex": [
       "'\\textbackslash{}nThe average distances collection process took 2 minute(s) and 49 second(s).'"
      ],
      "text/markdown": [
       "'\\nThe average distances collection process took 2 minute(s) and 49 second(s).'"
      ],
      "text/plain": [
       "[1] \"\\nThe average distances collection process took 2 minute(s) and 49 second(s).\""
      ]
     },
     "metadata": {},
     "output_type": "display_data"
    },
    {
     "name": "stdout",
     "output_type": "stream",
     "text": [
      "||--------------------------- End of average distances collection ---------------------------||"
     ]
    }
   ],
   "source": [
    "all_avg_dists <- lapply(names(typing_data), function(tdx) {\n",
    "  readRDS(file.path(basedir, paste0(\"TP\", tdx, \".Rds\")))\n",
    "}) %>% set_names(names(typing_data)) %>% bind_rows()\n",
    "\n",
    "if (params$int_type[2] == \"multiset\") {\n",
    "  res_file <- gsub(\"-\", \"\", params$divs[2]) %>% gsub(\",\", \"-\", .) %>% \n",
    "    paste0(\"AVGS-\",.,  \".Rds\") %>% \n",
    "    file.path(file.path(\"../results\", params$int_type[2]), .)\n",
    "}else {\n",
    "  res_file <- file.path(\"../results\", params$int_type[2], \"AVGS-intervals.Rds\")\n",
    "}\n",
    "\n",
    "paste0(\"Merging average distance results and saving to '\", res_file, \"'\")\n",
    "saveRDS(all_avg_dists, res_file)\n",
    "stopwatch[[\"end_time\"]] <- as.character.POSIXt(Sys.time())\n",
    "timeTaken(pt = \"average distances collection\", stopwatch)\n",
    "cat(paste0(\"||\", paste0(rep(\"-\", 27), collapse = \"\"), \" End of average distances collection \",\n",
    "           paste0(rep(\"-\", 27), collapse = \"\"), \"||\"))"
   ]
  }
 ],
 "metadata": {
  "kernelspec": {
   "display_name": "R",
   "language": "R",
   "name": "ir"
  },
  "language_info": {
   "codemirror_mode": "r",
   "file_extension": ".r",
   "mimetype": "text/x-r-source",
   "name": "R",
   "pygments_lexer": "r",
   "version": "4.1.3"
  }
 },
 "nbformat": 4,
 "nbformat_minor": 5
}
